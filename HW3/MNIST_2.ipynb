{
 "cells": [
  {
   "cell_type": "code",
   "execution_count": 27,
   "metadata": {
    "collapsed": false
   },
   "outputs": [
    {
     "name": "stdout",
     "output_type": "stream",
     "text": [
      "Extracting ../../MNIST_data/train-images-idx3-ubyte.gz\n",
      "Extracting ../../MNIST_data/train-labels-idx1-ubyte.gz\n",
      "Extracting ../../MNIST_data/t10k-images-idx3-ubyte.gz\n",
      "Extracting ../../MNIST_data/t10k-labels-idx1-ubyte.gz\n",
      "step 100, Average loss : 9781.442783203125\n",
      "step 200, Average loss : 3116.601389160156\n",
      "step 300, Average loss : 1828.0103503417968\n",
      "step 400, Average loss : 1250.8269140625\n",
      "step 500, Average loss : 927.6420819091796\n",
      "step 600, Average loss : 733.0518328857422\n",
      "step 700, Average loss : 552.903171081543\n",
      "step 800, Average loss : 439.374384765625\n",
      "step 900, Average loss : 352.7305807495117\n",
      "step 1000, Average loss : 291.7540570068359\n",
      "Optimization Finished!\n"
     ]
    }
   ],
   "source": [
    "import os\n",
    "\n",
    "os.environ['TF_CPP_MIN_LOG_LEVEL'] = '2'\n",
    "os.environ[\"CUDA_DEVICE_ORDER\"]=\"PCI_BUS_ID\"\n",
    "os.environ[\"CUDA_VISIBLE_DEVICES\"]=\"1\"\n",
    "\n",
    "import tensorflow as tf\n",
    "import matplotlib.pyplot as plt\n",
    "import numpy as np\n",
    "\n",
    "tf.reset_default_graph()\n",
    "# Import MNIST data\n",
    "from tensorflow.examples.tutorials.mnist import input_data\n",
    "mnist = input_data.read_data_sets(\"../../MNIST_data/\", one_hot=True)\n",
    "\n",
    "'''\n",
    "To classify images using a recurrent neural network, we consider every image\n",
    "row as a sequence of pixels. Because MNIST image shape is 28*28px, we will then\n",
    "handle 28 sequences of 28 steps for every sample.\n",
    "'''\n",
    "\n",
    "# Training Parameters\n",
    "learning_rate = 0.001\n",
    "training_steps = 1000\n",
    "batch_size = 16\n",
    "display_step = 200\n",
    "\n",
    "# Network Parameters\n",
    "\n",
    "num_input = 28 # MNIST data input (img shape: 28*28)\n",
    "timesteps = 27 #timesteps\n",
    "num_hidden = 128 # hidden layer num of features\n",
    "num_classes = 10 # MNIST total classes (0-9 digits)\n",
    "\n",
    "# tf Graph input\n",
    "X = tf.placeholder(\"float\", [None, None, num_input])\n",
    "Y = tf.placeholder(\"float\", [None, None, num_input])\n",
    "\n",
    "# the lstm cell\n",
    "lstm = tf.contrib.rnn.BasicLSTMCell(num_hidden)\n",
    "initial_state = lstm.zero_state(1, dtype=tf.float32)\n",
    "\n",
    "output, state = tf.nn.dynamic_rnn(lstm, X, dtype=tf.float32)\n",
    "\n",
    "w = tf.Variable(tf.random_normal([num_hidden, num_input], stddev = 0.05))\n",
    "b = tf.Variable(tf.random_normal([num_input], stddev = 0.05))\n",
    "\n",
    "output_reshaped = tf.reshape(output, [-1, num_hidden])\n",
    "\n",
    "output_modified = tf.matmul(output_reshaped, w) + b\n",
    "last_output = tf.reshape(output_modified, tf.shape(X))\n",
    "\n",
    "loss = tf.reduce_sum(( Y - last_output) * ( Y - last_output ))\n",
    "\n",
    "optimizer = tf.train.RMSPropOptimizer(learning_rate=learning_rate).minimize(loss)\n",
    "\n",
    "\n",
    "init = tf.global_variables_initializer()\n",
    "\n",
    "\n",
    "\n",
    "\n",
    "    \n",
    "#just some config for not getting whole server\n",
    "gpu_options = tf.GPUOptions(allow_growth=True)\n",
    "config = tf.ConfigProto(gpu_options=gpu_options)\n",
    "# Start training\n",
    "sess = tf.Session(config = config)\n",
    "\n",
    "# Run the initializer\n",
    "sess.run(init)\n",
    "\n",
    "total_loss = 0\n",
    "for step in range(1, training_steps+1):\n",
    "#To implement training  \n",
    "    ##training batches\n",
    "    batch, _ = mnist.train.next_batch(batch_size)\n",
    "\n",
    "    X_batch = np.zeros((batch_size, 784 - num_input, num_input))\n",
    "    Y_batch = np.zeros((batch_size, 784 - num_input, num_input))\n",
    "    for i in range(784 - num_input):\n",
    "        X_batch[:, i , :] = batch[:, i:i + num_input]\n",
    "        Y_batch[:, i, :] = batch[:, i + 1:i + 1 + num_input]\n",
    "\n",
    "\n",
    "#         X_batch, Y_batch = batch[:, 0:timesteps,:], batch[:, 1:timesteps + 1,:]\n",
    "    _, loss_batch= sess.run([optimizer, loss], feed_dict={X: X_batch, Y: Y_batch})\n",
    "    total_loss += loss_batch\n",
    "\n",
    "    if step % 100 == 0:\n",
    "        print('step {}, Average loss : {}'.format(step, total_loss / 100))\n",
    "        total_loss = 0\n",
    "\n",
    "print(\"Optimization Finished!\")\n",
    "\n",
    "    "
   ]
  },
  {
   "cell_type": "code",
   "execution_count": 28,
   "metadata": {
    "collapsed": false
   },
   "outputs": [
    {
     "data": {
      "image/png": "[encoded data removed]",
      "text/plain": [
       "<matplotlib.figure.Figure at 0x7f3bfc1f1278>"
      ]
     },
     "metadata": {},
     "output_type": "display_data"
    }
   ],
   "source": [
    "# Calculate accuracy for 128 mnist test images\n",
    "test_data = mnist.test.images[1:2]\n",
    "\n",
    "\n",
    "X_batch = np.zeros((batch_size, 392 - num_input + 1, num_input))\n",
    "for i in range(392 - num_input + 1):\n",
    "    X_batch[:, i , :] = test_data[:, i:i + num_input]\n",
    "\n",
    "last_show = np.zeros((1 ,28, 28))\n",
    "last_show[0 , 0:14, :] = (test_data[0, 0:392]).reshape(14, 28)\n",
    "\n",
    "for i in range(392):\n",
    "    out = sess.run(last_output, feed_dict={X: X_batch})\n",
    "    last_show[0, 14 + (i //28),  i % 28] = out[0, -1, -1]\n",
    "    \n",
    "    X_batch[:, :-1] = X_batch[:, 1:]\n",
    "    X_batch[:, -1, :-1] = X_batch[:, -1, 1:]\n",
    "    X_batch[:, -1, -1] = out[:, -1, -1]\n",
    "    \n",
    "plt.imshow(last_show[0])\n",
    "plt.show()\n"
   ]
  },
  {
   "cell_type": "code",
   "execution_count": 29,
   "metadata": {
    "collapsed": false
   },
   "outputs": [
    {
     "data": {
      "image/png": "[encoded data removed]",
      "text/plain": [
       "<matplotlib.figure.Figure at 0x7f3bfc3f2e10>"
      ]
     },
     "metadata": {},
     "output_type": "display_data"
    }
   ],
   "source": [
    "plt.imshow(test_data[0].reshape(28,28))\n",
    "plt.show()\n"
   ]
  },
  {
   "cell_type": "code",
   "execution_count": 30,
   "metadata": {
    "collapsed": false
   },
   "outputs": [
    {
     "data": {
      "image/png": "[encoded data removed]",
      "text/plain": [
       "<matplotlib.figure.Figure at 0x7f3bec7809b0>"
      ]
     },
     "metadata": {},
     "output_type": "display_data"
    }
   ],
   "source": [
    "# Calculate accuracy for 128 mnist test images\n",
    "test_data = mnist.test.images[10:11]\n",
    "\n",
    "\n",
    "X_batch = np.zeros((batch_size, 392 - num_input + 1, num_input))\n",
    "for i in range(392 - num_input + 1):\n",
    "    X_batch[:, i , :] = test_data[:, i:i + num_input]\n",
    "\n",
    "last_show = np.zeros((1 ,28, 28))\n",
    "last_show[0 , 0:14, :] = (test_data[0, 0:392]).reshape(14, 28)\n",
    "\n",
    "for i in range(392):\n",
    "    out = sess.run(last_output, feed_dict={X: X_batch})\n",
    "    last_show[0, 14 + (i //28),  i % 28] = out[0, -1, -1]\n",
    "    \n",
    "    X_batch[:, :-1] = X_batch[:, 1:]\n",
    "    X_batch[:, -1, :-1] = X_batch[:, -1, 1:]\n",
    "    X_batch[:, -1, -1] = out[:, -1, -1]\n",
    "    \n",
    "plt.imshow(last_show[0])\n",
    "plt.show()\n"
   ]
  },
  {
   "cell_type": "code",
   "execution_count": 31,
   "metadata": {
    "collapsed": false
   },
   "outputs": [
    {
     "data": {
      "image/png": "[encoded data removed]",
      "text/plain": [
       "<matplotlib.figure.Figure at 0x7f3c107a8a90>"
      ]
     },
     "metadata": {},
     "output_type": "display_data"
    }
   ],
   "source": [
    "plt.imshow(test_data[0].reshape(28,28))\n",
    "plt.show()"
   ]
  },
  {
   "cell_type": "code",
   "execution_count": null,
   "metadata": {
    "collapsed": true
   },
   "outputs": [],
   "source": [
    "sess.close()"
   ]
  }
 ],
 "metadata": {
  "kernelspec": {
   "display_name": "Python 3",
   "language": "python",
   "name": "python3"
  },
  "language_info": {
   "codemirror_mode": {
    "name": "ipython",
    "version": 3
   },
   "file_extension": ".py",
   "mimetype": "text/x-python",
   "name": "python",
   "nbconvert_exporter": "python",
   "pygments_lexer": "ipython3",
   "version": "3.4.3"
  }
 },
 "nbformat": 4,
 "nbformat_minor": 2
}
