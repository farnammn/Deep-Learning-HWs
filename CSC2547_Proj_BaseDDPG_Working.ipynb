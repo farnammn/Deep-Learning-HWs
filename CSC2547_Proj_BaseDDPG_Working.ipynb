{
  "nbformat": 4,
  "nbformat_minor": 0,
  "metadata": {
    "colab": {
      "name": "CSC2547_Proj_BaseDDPG_Working.ipynb",
      "provenance": [],
      "collapsed_sections": [],
      "machine_shape": "hm",
      "include_colab_link": true
    },
    "kernelspec": {
      "name": "python3",
      "display_name": "Python 3"
    },
    "language_info": {
      "name": "python"
    },
    "accelerator": "GPU"
  },
  "cells": [
    {
      "cell_type": "markdown",
      "metadata": {
        "id": "view-in-github",
        "colab_type": "text"
      },
      "source": [
        "<a href=\"https://colab.research.google.com/github/farnammn/Deep-Learning-HWs/blob/master/CSC2547_Proj_BaseDDPG_Working.ipynb\" target=\"_parent\"><img src=\"https://colab.research.google.com/assets/colab-badge.svg\" alt=\"Open In Colab\"/></a>"
      ]
    },
    {
      "cell_type": "code",
      "metadata": {
        "colab": {
          "base_uri": "https://localhost:8080/"
        },
        "id": "37elhUYkg0GS",
        "outputId": "342f5cb1-5797-487c-e2bd-851673ad48ea"
      },
      "source": [
        "!pip install box2d-py\n",
        "!pip install gym[Box_2D]\n",
        "\n"
      ],
      "execution_count": 34,
      "outputs": [
        {
          "output_type": "stream",
          "text": [
            "Collecting box2d-py\n",
            "\u001b[?25l  Downloading https://files.pythonhosted.org/packages/87/34/da5393985c3ff9a76351df6127c275dcb5749ae0abbe8d5210f06d97405d/box2d_py-2.3.8-cp37-cp37m-manylinux1_x86_64.whl (448kB)\n",
            "\r\u001b[K     |▊                               | 10kB 24.7MB/s eta 0:00:01\r\u001b[K     |█▌                              | 20kB 18.3MB/s eta 0:00:01\r\u001b[K     |██▏                             | 30kB 14.3MB/s eta 0:00:01\r\u001b[K     |███                             | 40kB 13.4MB/s eta 0:00:01\r\u001b[K     |███▋                            | 51kB 8.6MB/s eta 0:00:01\r\u001b[K     |████▍                           | 61kB 8.1MB/s eta 0:00:01\r\u001b[K     |█████▏                          | 71kB 9.2MB/s eta 0:00:01\r\u001b[K     |█████▉                          | 81kB 10.1MB/s eta 0:00:01\r\u001b[K     |██████▋                         | 92kB 9.2MB/s eta 0:00:01\r\u001b[K     |███████▎                        | 102kB 8.3MB/s eta 0:00:01\r\u001b[K     |████████                        | 112kB 8.3MB/s eta 0:00:01\r\u001b[K     |████████▊                       | 122kB 8.3MB/s eta 0:00:01\r\u001b[K     |█████████▌                      | 133kB 8.3MB/s eta 0:00:01\r\u001b[K     |██████████▎                     | 143kB 8.3MB/s eta 0:00:01\r\u001b[K     |███████████                     | 153kB 8.3MB/s eta 0:00:01\r\u001b[K     |███████████▊                    | 163kB 8.3MB/s eta 0:00:01\r\u001b[K     |████████████▍                   | 174kB 8.3MB/s eta 0:00:01\r\u001b[K     |█████████████▏                  | 184kB 8.3MB/s eta 0:00:01\r\u001b[K     |█████████████▉                  | 194kB 8.3MB/s eta 0:00:01\r\u001b[K     |██████████████▋                 | 204kB 8.3MB/s eta 0:00:01\r\u001b[K     |███████████████▍                | 215kB 8.3MB/s eta 0:00:01\r\u001b[K     |████████████████                | 225kB 8.3MB/s eta 0:00:01\r\u001b[K     |████████████████▉               | 235kB 8.3MB/s eta 0:00:01\r\u001b[K     |█████████████████▌              | 245kB 8.3MB/s eta 0:00:01\r\u001b[K     |██████████████████▎             | 256kB 8.3MB/s eta 0:00:01\r\u001b[K     |███████████████████             | 266kB 8.3MB/s eta 0:00:01\r\u001b[K     |███████████████████▊            | 276kB 8.3MB/s eta 0:00:01\r\u001b[K     |████████████████████▌           | 286kB 8.3MB/s eta 0:00:01\r\u001b[K     |█████████████████████▏          | 296kB 8.3MB/s eta 0:00:01\r\u001b[K     |██████████████████████          | 307kB 8.3MB/s eta 0:00:01\r\u001b[K     |██████████████████████▋         | 317kB 8.3MB/s eta 0:00:01\r\u001b[K     |███████████████████████▍        | 327kB 8.3MB/s eta 0:00:01\r\u001b[K     |████████████████████████        | 337kB 8.3MB/s eta 0:00:01\r\u001b[K     |████████████████████████▉       | 348kB 8.3MB/s eta 0:00:01\r\u001b[K     |█████████████████████████▋      | 358kB 8.3MB/s eta 0:00:01\r\u001b[K     |██████████████████████████▎     | 368kB 8.3MB/s eta 0:00:01\r\u001b[K     |███████████████████████████     | 378kB 8.3MB/s eta 0:00:01\r\u001b[K     |███████████████████████████▊    | 389kB 8.3MB/s eta 0:00:01\r\u001b[K     |████████████████████████████▌   | 399kB 8.3MB/s eta 0:00:01\r\u001b[K     |█████████████████████████████▏  | 409kB 8.3MB/s eta 0:00:01\r\u001b[K     |██████████████████████████████  | 419kB 8.3MB/s eta 0:00:01\r\u001b[K     |██████████████████████████████▊ | 430kB 8.3MB/s eta 0:00:01\r\u001b[K     |███████████████████████████████▍| 440kB 8.3MB/s eta 0:00:01\r\u001b[K     |████████████████████████████████| 450kB 8.3MB/s \n",
            "\u001b[?25hInstalling collected packages: box2d-py\n",
            "Successfully installed box2d-py-2.3.8\n",
            "Requirement already satisfied: gym[Box_2D] in /usr/local/lib/python3.7/dist-packages (0.17.3)\n",
            "\u001b[33m  WARNING: gym 0.17.3 does not provide the extra 'box_2d'\u001b[0m\n",
            "Requirement already satisfied: cloudpickle<1.7.0,>=1.2.0 in /usr/local/lib/python3.7/dist-packages (from gym[Box_2D]) (1.3.0)\n",
            "Requirement already satisfied: scipy in /usr/local/lib/python3.7/dist-packages (from gym[Box_2D]) (1.4.1)\n",
            "Requirement already satisfied: pyglet<=1.5.0,>=1.4.0 in /usr/local/lib/python3.7/dist-packages (from gym[Box_2D]) (1.5.0)\n",
            "Requirement already satisfied: numpy>=1.10.4 in /usr/local/lib/python3.7/dist-packages (from gym[Box_2D]) (1.19.5)\n",
            "Requirement already satisfied: future in /usr/local/lib/python3.7/dist-packages (from pyglet<=1.5.0,>=1.4.0->gym[Box_2D]) (0.16.0)\n"
          ],
          "name": "stdout"
        }
      ]
    },
    {
      "cell_type": "code",
      "metadata": {
        "id": "uc34ie1PdRTj"
      },
      "source": [
        "import matplotlib.pyplot as plt \n",
        "import os\n",
        "import torch as T\n",
        "import torch.nn as nn\n",
        "import torch.nn.functional as F\n",
        "import torch.optim as optim\n",
        "import numpy as np\n",
        "import gym\n",
        "import numpy as np\n"
      ],
      "execution_count": 35,
      "outputs": []
    },
    {
      "cell_type": "code",
      "metadata": {
        "id": "27qqPyzCgl-x"
      },
      "source": [
        ""
      ],
      "execution_count": null,
      "outputs": []
    },
    {
      "cell_type": "markdown",
      "metadata": {
        "id": "qqDay6SodwQh"
      },
      "source": [
        "# Utilities "
      ]
    },
    {
      "cell_type": "code",
      "metadata": {
        "id": "DEi3wXHndkqj"
      },
      "source": [
        "def plotLearning(scores, filename, x=None, window=5):   \n",
        "    N = len(scores)\n",
        "    running_avg = np.empty(N)\n",
        "    for t in range(N):\n",
        "\t    running_avg[t] = np.mean(scores[max(0, t-window):(t+1)])\n",
        "    if x is None:\n",
        "        x = [i for i in range(N)]\n",
        "    plt.ylabel('Score')       \n",
        "    plt.xlabel('Game')                     \n",
        "    plt.plot(x, running_avg)\n",
        "    plt.savefig(filename)\n",
        "\n",
        "def make_dir(path):\n",
        "  try: os.mkdir(path)\n",
        "  except: pass"
      ],
      "execution_count": 33,
      "outputs": []
    },
    {
      "cell_type": "markdown",
      "metadata": {
        "id": "aImk6ki3d1y9"
      },
      "source": [
        "# DDPG Implementation in PyTorch"
      ]
    },
    {
      "cell_type": "markdown",
      "metadata": {
        "id": "oZvTlRPCd8xc"
      },
      "source": [
        "## Class for Ornstein-Uhlenbeck Action Noise"
      ]
    },
    {
      "cell_type": "code",
      "metadata": {
        "id": "0mutjwgZd1UE"
      },
      "source": [
        "class OUActionNoise(object):\n",
        "    def __init__(self, mu, sigma=0.15, theta=.2, dt=1e-2, x0=None):\n",
        "        self.theta = theta\n",
        "        self.mu = mu\n",
        "        self.sigma = sigma\n",
        "        self.dt = dt\n",
        "        self.x0 = x0\n",
        "        self.reset()\n",
        "\n",
        "    def __call__(self):\n",
        "        x = self.x_prev + self.theta * (self.mu - self.x_prev) * self.dt + \\\n",
        "            self.sigma * np.sqrt(self.dt) * np.random.normal(size=self.mu.shape)\n",
        "        self.x_prev = x\n",
        "        return x\n",
        "\n",
        "    def reset(self):\n",
        "        self.x_prev = self.x0 if self.x0 is not None else np.zeros_like(self.mu)\n",
        "\n",
        "    def __repr__(self):\n",
        "        return 'OrnsteinUhlenbeckActionNoise(mu={}, sigma={})'.format(\n",
        "                                                            self.mu, self.sigma)"
      ],
      "execution_count": 36,
      "outputs": []
    },
    {
      "cell_type": "markdown",
      "metadata": {
        "id": "zOzUWffTeF-7"
      },
      "source": [
        "## Class for Reply Buffer"
      ]
    },
    {
      "cell_type": "code",
      "metadata": {
        "id": "-Hu8f7DIdyDa"
      },
      "source": [
        "class ReplayBuffer(object):\n",
        "    def __init__(self, max_size, input_shape, n_actions):\n",
        "        self.mem_size = max_size\n",
        "        self.mem_cntr = 0\n",
        "        self.state_memory = np.zeros((self.mem_size, *input_shape))\n",
        "        self.new_state_memory = np.zeros((self.mem_size, *input_shape))\n",
        "        self.action_memory = np.zeros((self.mem_size, n_actions))\n",
        "        self.reward_memory = np.zeros(self.mem_size)\n",
        "        self.terminal_memory = np.zeros(self.mem_size, dtype=np.float32)\n",
        "\n",
        "    def store_transition(self, state, action, reward, state_, done):\n",
        "        index = self.mem_cntr % self.mem_size\n",
        "        self.state_memory[index] = state\n",
        "        self.new_state_memory[index] = state_\n",
        "        self.action_memory[index] = action\n",
        "        self.reward_memory[index] = reward\n",
        "        self.terminal_memory[index] = 1 - done\n",
        "        self.mem_cntr += 1\n",
        "\n",
        "    def sample_buffer(self, batch_size):\n",
        "        max_mem = min(self.mem_cntr, self.mem_size)\n",
        "\n",
        "        batch = np.random.choice(max_mem, batch_size)\n",
        "\n",
        "        states = self.state_memory[batch]\n",
        "        actions = self.action_memory[batch]\n",
        "        rewards = self.reward_memory[batch]\n",
        "        states_ = self.new_state_memory[batch]\n",
        "        terminal = self.terminal_memory[batch]\n",
        "\n",
        "        return states, actions, rewards, states_, terminal"
      ],
      "execution_count": 37,
      "outputs": []
    },
    {
      "cell_type": "markdown",
      "metadata": {
        "id": "pGjLWx8deimW"
      },
      "source": [
        "## Critic Network\n"
      ]
    },
    {
      "cell_type": "code",
      "metadata": {
        "id": "ncyzMuaieL7L"
      },
      "source": [
        "class CriticNetwork(nn.Module):\n",
        "    def __init__(self, beta, input_dims, fc1_dims, fc2_dims, n_actions, name,\n",
        "                 chkpt_dir='tmp/ddpg'):\n",
        "        super(CriticNetwork, self).__init__()\n",
        "        self.input_dims = input_dims\n",
        "        self.fc1_dims = fc1_dims\n",
        "        self.fc2_dims = fc2_dims\n",
        "        self.n_actions = n_actions\n",
        "        self.checkpoint_file = os.path.join(chkpt_dir,name+'_ddpg')\n",
        "        self.fc1 = nn.Linear(*self.input_dims, self.fc1_dims)\n",
        "        f1 = 1./np.sqrt(self.fc1.weight.data.size()[0])\n",
        "        T.nn.init.uniform_(self.fc1.weight.data, -f1, f1)\n",
        "        T.nn.init.uniform_(self.fc1.bias.data, -f1, f1)\n",
        "        #self.fc1.weight.data.uniform_(-f1, f1)\n",
        "        #self.fc1.bias.data.uniform_(-f1, f1)\n",
        "        self.bn1 = nn.LayerNorm(self.fc1_dims)\n",
        "\n",
        "        self.fc2 = nn.Linear(self.fc1_dims, self.fc2_dims)\n",
        "        f2 = 1./np.sqrt(self.fc2.weight.data.size()[0])\n",
        "        #f2 = 0.002\n",
        "        T.nn.init.uniform_(self.fc2.weight.data, -f2, f2)\n",
        "        T.nn.init.uniform_(self.fc2.bias.data, -f2, f2)\n",
        "        #self.fc2.weight.data.uniform_(-f2, f2)\n",
        "        #self.fc2.bias.data.uniform_(-f2, f2)\n",
        "        self.bn2 = nn.LayerNorm(self.fc2_dims)\n",
        "\n",
        "        self.action_value = nn.Linear(self.n_actions, self.fc2_dims)\n",
        "        f3 = 0.003\n",
        "        self.q = nn.Linear(self.fc2_dims, 1)\n",
        "        T.nn.init.uniform_(self.q.weight.data, -f3, f3)\n",
        "        T.nn.init.uniform_(self.q.bias.data, -f3, f3)\n",
        "        #self.q.weight.data.uniform_(-f3, f3)\n",
        "        #self.q.bias.data.uniform_(-f3, f3)\n",
        "\n",
        "        self.optimizer = optim.Adam(self.parameters(), lr=beta)\n",
        "        self.device = T.device('cuda:0' if T.cuda.is_available() else 'cuda:1')\n",
        "\n",
        "        self.to(self.device)\n",
        "\n",
        "    def forward(self, state, action):\n",
        "        state_value = self.fc1(state)\n",
        "        state_value = self.bn1(state_value)\n",
        "        state_value = F.relu(state_value)\n",
        "        state_value = self.fc2(state_value)\n",
        "        state_value = self.bn2(state_value)\n",
        "\n",
        "        action_value = F.relu(self.action_value(action))\n",
        "        state_action_value = F.relu(T.add(state_value, action_value))\n",
        "        state_action_value = self.q(state_action_value)\n",
        "\n",
        "        return state_action_value\n",
        "\n",
        "    def save_checkpoint(self):\n",
        "        print('... saving checkpoint ...')\n",
        "        T.save(self.state_dict(), self.checkpoint_file)\n",
        "\n",
        "    def load_checkpoint(self):\n",
        "        print('... loading checkpoint ...')\n",
        "        self.load_state_dict(T.load(self.checkpoint_file))"
      ],
      "execution_count": 38,
      "outputs": []
    },
    {
      "cell_type": "markdown",
      "metadata": {
        "id": "L93vOoacewF3"
      },
      "source": [
        "## Actor Network"
      ]
    },
    {
      "cell_type": "code",
      "metadata": {
        "id": "_Mcs48aVelRc"
      },
      "source": [
        "class ActorNetwork(nn.Module):\n",
        "    def __init__(self, alpha, input_dims, fc1_dims, fc2_dims, n_actions, name,\n",
        "                 chkpt_dir='tmp/ddpg'):\n",
        "        super(ActorNetwork, self).__init__()\n",
        "        self.input_dims = input_dims\n",
        "        self.fc1_dims = fc1_dims\n",
        "        self.fc2_dims = fc2_dims\n",
        "        self.n_actions = n_actions\n",
        "        self.checkpoint_file = os.path.join(chkpt_dir,name+'_ddpg')\n",
        "        self.fc1 = nn.Linear(*self.input_dims, self.fc1_dims)\n",
        "        f1 = 1./np.sqrt(self.fc1.weight.data.size()[0])\n",
        "        T.nn.init.uniform_(self.fc1.weight.data, -f1, f1)\n",
        "        T.nn.init.uniform_(self.fc1.bias.data, -f1, f1)\n",
        "        #self.fc1.weight.data.uniform_(-f1, f1)\n",
        "        #self.fc1.bias.data.uniform_(-f1, f1)\n",
        "        self.bn1 = nn.LayerNorm(self.fc1_dims)\n",
        "\n",
        "        self.fc2 = nn.Linear(self.fc1_dims, self.fc2_dims)\n",
        "        #f2 = 0.002\n",
        "        f2 = 1./np.sqrt(self.fc2.weight.data.size()[0])\n",
        "        T.nn.init.uniform_(self.fc2.weight.data, -f2, f2)\n",
        "        T.nn.init.uniform_(self.fc2.bias.data, -f2, f2)\n",
        "        #self.fc2.weight.data.uniform_(-f2, f2)\n",
        "        #self.fc2.bias.data.uniform_(-f2, f2)\n",
        "        self.bn2 = nn.LayerNorm(self.fc2_dims)\n",
        "\n",
        "        #f3 = 0.004\n",
        "        f3 = 0.003\n",
        "        self.mu = nn.Linear(self.fc2_dims, self.n_actions)\n",
        "        T.nn.init.uniform_(self.mu.weight.data, -f3, f3)\n",
        "        T.nn.init.uniform_(self.mu.bias.data, -f3, f3)\n",
        "        #self.mu.weight.data.uniform_(-f3, f3)\n",
        "        #self.mu.bias.data.uniform_(-f3, f3)\n",
        "\n",
        "        self.optimizer = optim.Adam(self.parameters(), lr=alpha)\n",
        "        self.device = T.device('cuda:0' if T.cuda.is_available() else 'cuda:1')\n",
        "\n",
        "        self.to(self.device)\n",
        "\n",
        "    def forward(self, state):\n",
        "        x = self.fc1(state)\n",
        "        x = self.bn1(x)\n",
        "        x = F.relu(x)\n",
        "        x = self.fc2(x)\n",
        "        x = self.bn2(x)\n",
        "        x = F.relu(x)\n",
        "        x = T.tanh(self.mu(x))\n",
        "\n",
        "        return x\n",
        "\n",
        "    def save_checkpoint(self):\n",
        "        print('... saving checkpoint ...')\n",
        "        T.save(self.state_dict(), self.checkpoint_file)\n",
        "\n",
        "    def load_checkpoint(self):\n",
        "        print('... loading checkpoint ...')\n",
        "        self.load_state_dict(T.load(self.checkpoint_file))"
      ],
      "execution_count": 39,
      "outputs": []
    },
    {
      "cell_type": "markdown",
      "metadata": {
        "id": "O6Ad4iEafD_U"
      },
      "source": [
        "## Agent"
      ]
    },
    {
      "cell_type": "code",
      "metadata": {
        "id": "PiFW6XSFexfZ"
      },
      "source": [
        "class Agent(object):\n",
        "    def __init__(self, alpha, beta, input_dims, tau, env, gamma=0.99,\n",
        "                 n_actions=2, max_size=1000000, layer1_size=400,\n",
        "                 layer2_size=300, batch_size=64, chkpt_dir='exp'):\n",
        "        self.gamma = gamma\n",
        "        self.tau = tau\n",
        "        self.memory = ReplayBuffer(max_size, input_dims, n_actions)\n",
        "        self.batch_size = batch_size\n",
        "\n",
        "        self.actor = ActorNetwork(alpha, input_dims, layer1_size,\n",
        "                                  layer2_size, n_actions=n_actions,\n",
        "                                  name='Actor', chkpt_dir=chkpt_dir)\n",
        "        self.critic = CriticNetwork(beta, input_dims, layer1_size,\n",
        "                                    layer2_size, n_actions=n_actions,\n",
        "                                    name='Critic', chkpt_dir=chkpt_dir)\n",
        "\n",
        "        self.target_actor = ActorNetwork(alpha, input_dims, layer1_size,\n",
        "                                         layer2_size, n_actions=n_actions,\n",
        "                                         name='TargetActor', chkpt_dir=chkpt_dir)\n",
        "        self.target_critic = CriticNetwork(beta, input_dims, layer1_size,\n",
        "                                           layer2_size, n_actions=n_actions,\n",
        "                                           name='TargetCritic', chkpt_dir=chkpt_dir)\n",
        "\n",
        "        self.noise = OUActionNoise(mu=np.zeros(n_actions))\n",
        "\n",
        "        self.update_network_parameters(tau=1)\n",
        "\n",
        "    def choose_action(self, observation):\n",
        "        self.actor.eval()\n",
        "        observation = T.tensor(observation, dtype=T.float).to(self.actor.device)\n",
        "        mu = self.actor.forward(observation).to(self.actor.device)\n",
        "        mu_prime = mu + T.tensor(self.noise(),\n",
        "                                 dtype=T.float).to(self.actor.device)\n",
        "        self.actor.train()\n",
        "        return mu_prime.cpu().detach().numpy()\n",
        "\n",
        "\n",
        "    def remember(self, state, action, reward, new_state, done):\n",
        "        self.memory.store_transition(state, action, reward, new_state, done)\n",
        "\n",
        "    def learn(self):\n",
        "        if self.memory.mem_cntr < self.batch_size:\n",
        "            return\n",
        "        state, action, reward, new_state, done = \\\n",
        "                                      self.memory.sample_buffer(self.batch_size)\n",
        "\n",
        "        reward = T.tensor(reward, dtype=T.float).to(self.critic.device)\n",
        "        done = T.tensor(done).to(self.critic.device)\n",
        "        new_state = T.tensor(new_state, dtype=T.float).to(self.critic.device)\n",
        "        action = T.tensor(action, dtype=T.float).to(self.critic.device)\n",
        "        state = T.tensor(state, dtype=T.float).to(self.critic.device)\n",
        "\n",
        "        self.target_actor.eval()\n",
        "        self.target_critic.eval()\n",
        "        self.critic.eval()\n",
        "        target_actions = self.target_actor.forward(new_state)\n",
        "        critic_value_ = self.target_critic.forward(new_state, target_actions)\n",
        "        critic_value = self.critic.forward(state, action)\n",
        "\n",
        "        target = []\n",
        "        for j in range(self.batch_size):\n",
        "            target.append(reward[j] + self.gamma*critic_value_[j]*done[j])\n",
        "        target = T.tensor(target).to(self.critic.device)\n",
        "        target = target.view(self.batch_size, 1)\n",
        "\n",
        "        self.critic.train()\n",
        "        self.critic.optimizer.zero_grad()\n",
        "        critic_loss = F.mse_loss(target, critic_value)\n",
        "        critic_loss.backward()\n",
        "        self.critic.optimizer.step()\n",
        "\n",
        "        self.critic.eval()\n",
        "        self.actor.optimizer.zero_grad()\n",
        "        mu = self.actor.forward(state)\n",
        "        self.actor.train()\n",
        "        actor_loss = -self.critic.forward(state, mu)\n",
        "        actor_loss = T.mean(actor_loss)\n",
        "        actor_loss.backward()\n",
        "        self.actor.optimizer.step()\n",
        "\n",
        "        self.update_network_parameters()\n",
        "\n",
        "    def update_network_parameters(self, tau=None):\n",
        "        if tau is None:\n",
        "            tau = self.tau\n",
        "\n",
        "        actor_params = self.actor.named_parameters()\n",
        "        critic_params = self.critic.named_parameters()\n",
        "        target_actor_params = self.target_actor.named_parameters()\n",
        "        target_critic_params = self.target_critic.named_parameters()\n",
        "\n",
        "        critic_state_dict = dict(critic_params)\n",
        "        actor_state_dict = dict(actor_params)\n",
        "        target_critic_dict = dict(target_critic_params)\n",
        "        target_actor_dict = dict(target_actor_params)\n",
        "\n",
        "        for name in critic_state_dict:\n",
        "            critic_state_dict[name] = tau*critic_state_dict[name].clone() + \\\n",
        "                                      (1-tau)*target_critic_dict[name].clone()\n",
        "\n",
        "        self.target_critic.load_state_dict(critic_state_dict)\n",
        "\n",
        "        for name in actor_state_dict:\n",
        "            actor_state_dict[name] = tau*actor_state_dict[name].clone() + \\\n",
        "                                      (1-tau)*target_actor_dict[name].clone()\n",
        "        self.target_actor.load_state_dict(actor_state_dict)\n",
        "\n",
        "\n",
        "    def save_models(self):\n",
        "        self.actor.save_checkpoint()\n",
        "        self.target_actor.save_checkpoint()\n",
        "        self.critic.save_checkpoint()\n",
        "        self.target_critic.save_checkpoint()\n",
        "\n",
        "    def load_models(self):\n",
        "        self.actor.load_checkpoint()\n",
        "        self.target_actor.load_checkpoint()\n",
        "        self.critic.load_checkpoint()\n",
        "        self.target_critic.load_checkpoint()\n",
        "\n",
        "    def check_actor_params(self):\n",
        "        current_actor_params = self.actor.named_parameters()\n",
        "        current_actor_dict = dict(current_actor_params)\n",
        "        original_actor_dict = dict(self.original_actor.named_parameters())\n",
        "        original_critic_dict = dict(self.original_critic.named_parameters())\n",
        "        current_critic_params = self.critic.named_parameters()\n",
        "        current_critic_dict = dict(current_critic_params)\n",
        "        print('Checking Actor parameters')\n",
        "\n",
        "        for param in current_actor_dict:\n",
        "            print(param, T.equal(original_actor_dict[param], current_actor_dict[param]))\n",
        "        print('Checking critic parameters')\n",
        "        for param in current_critic_dict:\n",
        "            print(param, T.equal(original_critic_dict[param], current_critic_dict[param]))\n",
        "        input()\n",
        "\n"
      ],
      "execution_count": 40,
      "outputs": []
    },
    {
      "cell_type": "markdown",
      "metadata": {
        "id": "Gtttjpd4fnI-"
      },
      "source": [
        "# Experiments"
      ]
    },
    {
      "cell_type": "code",
      "metadata": {
        "id": "XcMVrHqeflvq"
      },
      "source": [
        "chkpt_dir = 'experiment_out'\n",
        "make_dir(chkpt_dir)"
      ],
      "execution_count": null,
      "outputs": []
    },
    {
      "cell_type": "code",
      "metadata": {
        "id": "I8nnJDwkfVHL"
      },
      "source": [
        "env = gym.make('LunarLanderContinuous-v2')\n",
        "agent = Agent(alpha=0.000025, beta=0.00025, input_dims=[8], tau=0.001, env=env,\n",
        "              batch_size=64,  layer1_size=400, layer2_size=300, n_actions=2, chkpt_dir=chkpt_dir)\n",
        "\n",
        "#agent.load_models()\n",
        "np.random.seed(0)"
      ],
      "execution_count": null,
      "outputs": []
    },
    {
      "cell_type": "code",
      "metadata": {
        "colab": {
          "base_uri": "https://localhost:8080/",
          "height": 990
        },
        "id": "ByodIV2LgWYg",
        "outputId": "7a65b042-112a-4cb9-8925-47875991b59f"
      },
      "source": [
        "score_history = []\n",
        "num_episodes = 40\n",
        "for i in range(40):\n",
        "    obs = env.reset()\n",
        "    done = False\n",
        "    score = 0\n",
        "    while not done:\n",
        "        act = agent.choose_action(obs)\n",
        "        new_state, reward, done, info = env.step(act)\n",
        "        agent.remember(obs, act, reward, new_state, int(done))\n",
        "        agent.learn()\n",
        "        score += reward\n",
        "        obs = new_state\n",
        "        #env.render()\n",
        "    score_history.append(score)\n",
        "\n",
        "    #if i % 25 == 0:\n",
        "    #    agent.save_models()\n",
        "\n",
        "    print('episode ', i, 'score %.2f' % score,\n",
        "          'trailing 100 games avg %.3f' % np.mean(score_history[-100:]))\n",
        "\n",
        "filename = 'LunarLander-alpha000025-beta00025-400-300.png'\n",
        "plotLearning(score_history, filename, window=100)"
      ],
      "execution_count": null,
      "outputs": [
        {
          "output_type": "stream",
          "text": [
            "episode  0 score -243.95 trailing 100 games avg -243.946\n",
            "episode  1 score -397.61 trailing 100 games avg -320.777\n",
            "episode  2 score -722.60 trailing 100 games avg -454.718\n",
            "episode  3 score -147.69 trailing 100 games avg -377.962\n",
            "episode  4 score -155.48 trailing 100 games avg -333.465\n",
            "episode  5 score -118.25 trailing 100 games avg -297.596\n",
            "episode  6 score -94.02 trailing 100 games avg -268.514\n",
            "episode  7 score -81.82 trailing 100 games avg -245.178\n",
            "episode  8 score -174.08 trailing 100 games avg -237.278\n",
            "episode  9 score -205.51 trailing 100 games avg -234.101\n",
            "episode  10 score -127.08 trailing 100 games avg -224.372\n",
            "episode  11 score -242.52 trailing 100 games avg -225.885\n",
            "episode  12 score -283.49 trailing 100 games avg -230.316\n",
            "episode  13 score -217.48 trailing 100 games avg -229.399\n",
            "episode  14 score -318.03 trailing 100 games avg -235.308\n",
            "episode  15 score -319.38 trailing 100 games avg -240.562\n",
            "episode  16 score -525.42 trailing 100 games avg -257.318\n",
            "episode  17 score -268.88 trailing 100 games avg -257.961\n",
            "episode  18 score -191.46 trailing 100 games avg -254.461\n",
            "episode  19 score -379.63 trailing 100 games avg -260.719\n",
            "episode  20 score -648.35 trailing 100 games avg -279.178\n",
            "episode  21 score -742.31 trailing 100 games avg -300.229\n",
            "episode  22 score -227.50 trailing 100 games avg -297.067\n",
            "episode  23 score -452.91 trailing 100 games avg -303.560\n",
            "episode  24 score -256.44 trailing 100 games avg -301.676\n",
            "episode  25 score -657.43 trailing 100 games avg -315.359\n",
            "episode  26 score -360.64 trailing 100 games avg -317.036\n",
            "episode  27 score -473.84 trailing 100 games avg -322.636\n",
            "episode  28 score -255.32 trailing 100 games avg -320.314\n",
            "episode  29 score -406.07 trailing 100 games avg -323.173\n",
            "episode  30 score -244.88 trailing 100 games avg -320.647\n",
            "episode  31 score -302.92 trailing 100 games avg -320.093\n",
            "episode  32 score -457.25 trailing 100 games avg -324.249\n",
            "episode  33 score -358.76 trailing 100 games avg -325.264\n",
            "episode  34 score -307.99 trailing 100 games avg -324.771\n",
            "episode  35 score -236.90 trailing 100 games avg -322.330\n",
            "episode  36 score -247.46 trailing 100 games avg -320.306\n",
            "episode  37 score -204.50 trailing 100 games avg -317.259\n",
            "episode  38 score -211.04 trailing 100 games avg -314.535\n",
            "episode  39 score -343.78 trailing 100 games avg -315.266\n"
          ],
          "name": "stdout"
        },
        {
          "output_type": "display_data",
          "data": {
            "image/png": "[encoded data removed]",
            "text/plain": [
              "<Figure size 432x288 with 1 Axes>"
            ]
          },
          "metadata": {
            "tags": [],
            "needs_background": "light"
          }
        }
      ]
    },
    {
      "cell_type": "markdown",
      "metadata": {
        "id": "U5BQx9lZtIBp"
      },
      "source": [
        "# Burgers equation solver"
      ]
    },
    {
      "cell_type": "code",
      "metadata": {
        "id": "q8illl1FiL-C"
      },
      "source": [
        "from math import pi as PI\n",
        "from math import exp as exp\n",
        "import numpy as np\n",
        "\n",
        "class Burgers:\n",
        "\n",
        "  def __init__(self, XMAX, NX, NT):\n",
        "    self.XMAX = XMAX\n",
        "    self.NX = NX\n",
        "    self.NT = NT\n",
        "    self.u = np.zeros((self.NX,self.NT))\n",
        "    self.x = np.linspace(0, self.XMAX, self.NX)\n",
        "\n",
        "  @staticmethod  \n",
        "  def Noise(Dx):\n",
        "      return np.random.normal(loc=0.0, scale=np.sqrt(Dx))\n",
        "\n",
        "  def InitialCondition(self, NU):\n",
        "      for i in range(0,self.NX):\n",
        "          phi = exp( -(self.x[i]**2)/(4*NU) ) + exp( -(self.x[i]-2*PI)**2 / (4*NU) )\n",
        "          dphi = -(0.5*self.x[i]/NU)*exp( -(self.x[i]**2) / (4*NU) ) - (0.5*(self.x[i]-2*PI) / NU )*exp(-(self.x[i]-2*PI)**2 / (4*NU) )\n",
        "          self.u[i,0] = -2*NU*(dphi/phi) + 4\n",
        "      \n",
        "      return self.u\n",
        "          \n",
        "\n",
        "  def convection_diffusion(self, T_START, T_END, NU, EPS, prev_condition, f_control):\n",
        "    \"\"\"\n",
        "    Returns the velocity field and distance for 1D non-linear convection-diffusion\n",
        "    \"\"\"\n",
        "    t = np.linspace(T_START, T_END, NT)\n",
        "\n",
        "    # Increments\n",
        "    DT = (T_END-T_START)/(self.NT-1)\n",
        "    DX = self.XMAX/(self.NX-1)\n",
        "\n",
        "    # Initialise data structures\n",
        "    ipos = np.zeros(self.NX)\n",
        "    ineg = np.zeros(self.NX)\n",
        "\n",
        "    # Periodic boundary conditions\n",
        "    for i in range(0,self.NX):\n",
        "        ipos[i] = i+1\n",
        "        ineg[i] = i-1\n",
        "\n",
        "    ipos[self.NX-1] = 0\n",
        "    ineg[0] = self.NX-1\n",
        "\n",
        "    # Numerical solution\n",
        "    for n in range(0,self.NT-1):\n",
        "        for i in range(0,self.NX):\n",
        "            dw = self.Noise(DX)\n",
        "            self.u[i,n+1] = (self.u[i,n]-self.u[i,n]*(DT/DX)*(self.u[i,n]-self.u[int(ineg[i]),n])+ NU*(DT/DX**2)*(self.u[int(ipos[i]),n]-2*self.u[i,n]+self.u[int(ineg[i]),n]) + (EPS/DX) * dw) + f_control[i] * DT\n",
        "\n",
        "    return self.u"
      ],
      "execution_count": 55,
      "outputs": []
    },
    {
      "cell_type": "code",
      "metadata": {
        "colab": {
          "base_uri": "https://localhost:8080/",
          "height": 442
        },
        "id": "VlrJkPGjsYRl",
        "outputId": "9fecd0c7-ee05-4f16-a924-9641e58994b8"
      },
      "source": [
        "from math import pi as PI\n",
        "import numpy as np\n",
        "# import Burgers\n",
        "import matplotlib.pyplot as plt\n",
        "\n",
        "seed  = 0\n",
        "\n",
        "NT = 301\n",
        "T_START = 0\n",
        "T_END = 1\n",
        "NX = 151\n",
        "XMAX = 2.0*PI\n",
        "NU = 0.01\n",
        "EPS = 0.01\n",
        "\n",
        "np.random.seed(seed)\n",
        "\n",
        "f_control = np.full(NX, 2.0, dtype = np.float32)\n",
        "burgers = Burgers(XMAX=XMAX, NX=NX, NT=NT)\n",
        "prev_condition = burgers.InitialCondition(NU)\n",
        "u = burgers.convection_diffusion(T_START, T_END, NU, EPS, prev_condition, f_control)\n",
        "\n",
        "plt.figure(figsize=(10,7))\n",
        "\n",
        "plt.rc('legend', fontsize=10)    # legend fontsize\n",
        "plt.rc('axes', labelsize=10)    # fontsize of the x and y labels\n",
        "plt.rcParams['axes.linewidth'] = 2\n",
        "\n",
        "plt.xlabel('x', fontsize = 10)\n",
        "plt.ylabel(r'$u$', fontsize = 10)\n",
        "plt.xticks(fontsize=10)\n",
        "plt.yticks(fontsize=10)  \n",
        "\n",
        "plt.plot(burgers.x, burgers.u[:,0], label=\"u_initial\", color=\"black\", lw=2)\n",
        "plt.plot(burgers.x, burgers.u[:,100], label=\"u_t1\", color=\"red\", lw=2)\n",
        "plt.plot(burgers.x, burgers.u[:,200], label=\"u_t2\", color=\"green\", lw=2)\n",
        "plt.plot(burgers.x, burgers.u[:,-1], label=\"u_end\", color=\"blue\", lw=2)\n",
        "\n",
        "plt.xlim(0, XMAX)\n",
        "plt.ylim(0, 7.5)\n",
        "plt.legend(prop={'size': 10})\n",
        "plt.minorticks_on()    \n",
        "plt.show()"
      ],
      "execution_count": 91,
      "outputs": [
        {
          "output_type": "display_data",
          "data": {
            "image/png": "[encoded data removed]",
            "text/plain": [
              "<Figure size 720x504 with 1 Axes>"
            ]
          },
          "metadata": {
            "tags": [],
            "needs_background": "light"
          }
        }
      ]
    },
    {
      "cell_type": "code",
      "metadata": {
        "id": "CEMSSv65sgA-"
      },
      "source": [
        "import gym\n",
        "from gym import spaces\n",
        "from gym.utils import seeding\n",
        "import numpy as np\n",
        "from os import path\n",
        "\n",
        "\n",
        "class SpdeEnv(gym.Env):\n",
        "    metadata = {\n",
        "        'render.modes': ['human', 'rgb_array'],\n",
        "        'video.frames_per_second': 30\n",
        "    }\n",
        "    \n",
        "    def __init__(self, burgers, u_max, f_max, nu, eps, u_star):\n",
        "        self.burgers = burgers\n",
        "        self.u_max = u_max\n",
        "        self.f_max = f_max\n",
        "        self.n_x = self.burgers.NX\n",
        "        self.nu = nu\n",
        "        self.eps = eps\n",
        "        self.u_star = u_star \n",
        "        self.viewer = None\n",
        "        \n",
        "    \n",
        "        f_high = np.full((self.n_x), self.f_max, dtype = np.float32)\n",
        "        u_high = np.full((self.n_x), self.u_max, dtype = np.float32)\n",
        "        self.action_space = spaces.Box(\n",
        "            low=-f_high,\n",
        "            high=f_high,\n",
        "            dtype=np.float32\n",
        "        )\n",
        "        self.observation_space = spaces.Box(\n",
        "            low=-u_high,\n",
        "            high=u_high,\n",
        "            dtype=np.float32\n",
        "        )\n",
        "\n",
        "        self.seed()\n",
        "\n",
        "    def seed(self, seed=None):\n",
        "        self.np_random, seed = seeding.np_random(seed)\n",
        "        return [seed]\n",
        "\n",
        "    def step(self, f, t_start, t_end):\n",
        "        u = self.state  # th := theta\n",
        "\n",
        "        # f = np.clip(f, -self.f_max, self.f_max)\n",
        "        costs = np.sum((u[:, -1] - self.u_star)**2)\n",
        "\n",
        "        self.state = self.burgers.convection_diffusion(t_start, t_end, self.nu, self.eps, u, f)\n",
        "        return self.state[:, -1], -costs, False, {}\n",
        "\n",
        "    def reset(self):\n",
        "        self.state = self.burgers.InitialCondition(self.nu) \n",
        "        self.last_u = None\n",
        "        return self.state [:, 0]\n"
      ],
      "execution_count": 92,
      "outputs": []
    },
    {
      "cell_type": "code",
      "metadata": {
        "colab": {
          "base_uri": "https://localhost:8080/",
          "height": 460
        },
        "id": "MzmMvuSDN4Tq",
        "outputId": "1cda0d52-f5db-4da1-82c6-b7ecdeb447b1"
      },
      "source": [
        "NT = 3001\n",
        "burgers = Burgers(XMAX, NX, NT)\n",
        "UMAX = 8\n",
        "USTAR = np.full(NX, 4.0, dtype = np.float32)\n",
        "FMAX = 20\n",
        "f_control = np.full(NX, 0, dtype = np.float32)\n",
        "\n",
        "\n",
        "env = SpdeEnv(burgers, UMAX, FMAX, NU, EPS, USTAR)\n",
        "env.reset()\n",
        "u, reward, done, _ = env.step(f_control, 0, 10)\n",
        "\n",
        "print(reward)\n",
        "\n",
        "plt.figure(figsize=(10,7))\n",
        "\n",
        "plt.rc('legend', fontsize=10)    # legend fontsize\n",
        "plt.rc('axes', labelsize=10)    # fontsize of the x and y labels\n",
        "plt.rcParams['axes.linewidth'] = 2\n",
        "\n",
        "plt.xlabel('x', fontsize = 10)\n",
        "plt.ylabel(r'$u$', fontsize = 10)\n",
        "plt.xticks(fontsize=10)\n",
        "plt.yticks(fontsize=10)  \n",
        "\n",
        "plt.plot(burgers.x, burgers.u[:,0], label=\"u_initial\", color=\"black\", lw=2)\n",
        "plt.plot(burgers.x, burgers.u[:,100], label=\"u_t1\", color=\"red\", lw=2)\n",
        "plt.plot(burgers.x, burgers.u[:,200], label=\"u_t2\", color=\"green\", lw=2)\n",
        "plt.plot(burgers.x, burgers.u[:,-1], label=\"u_end\", color=\"blue\", lw=2)\n",
        "\n",
        "plt.xlim(0, XMAX)\n",
        "plt.ylim(0, 7.5)\n",
        "plt.legend(prop={'size': 10})\n",
        "plt.minorticks_on()    \n",
        "plt.show()\n"
      ],
      "execution_count": 106,
      "outputs": [
        {
          "output_type": "stream",
          "text": [
            "-2416.0\n"
          ],
          "name": "stdout"
        },
        {
          "output_type": "display_data",
          "data": {
            "image/png": "[encoded data removed]",
            "text/plain": [
              "<Figure size 720x504 with 1 Axes>"
            ]
          },
          "metadata": {
            "tags": [],
            "needs_background": "light"
          }
        }
      ]
    },
    {
      "cell_type": "code",
      "metadata": {
        "id": "jiGR3-Wc-1aF"
      },
      "source": [
        "NT = 31\n",
        "burgers = Burgers(XMAX, NX, NT)\n",
        "UMAX = 8\n",
        "USTAR = np.full(NX, 4.0, dtype = np.float32)\n",
        "FMAX = 20\n",
        "f_control = np.full(NX, 2.0, dtype = np.float32)\n",
        "\n",
        "env = SpdeEnv(burgers, UMAX, FMAX, NU, EPS, USTAR)\n",
        "chkpt_dir = 'experiment_out'\n",
        "make_dir(chkpt_dir)\n",
        "\n",
        "agent = Agent(alpha=0.000025, beta=0.00025, input_dims=[NX], tau=0.001, env=env,\n",
        "              batch_size=64,  layer1_size=400, layer2_size=300, n_actions=NX, chkpt_dir=chkpt_dir)\n",
        "\n",
        "# agent.load_models()\n",
        "np.random.seed(0)"
      ],
      "execution_count": 113,
      "outputs": []
    },
    {
      "cell_type": "code",
      "metadata": {
        "colab": {
          "base_uri": "https://localhost:8080/",
          "height": 884
        },
        "id": "pp81GdnoNUVQ",
        "outputId": "e6c22ef8-8457-4e13-acb9-aab666fabab2"
      },
      "source": [
        "score_history = []\n",
        "num_episodes = 100\n",
        "episode_length = 100\n",
        "for j in range(num_episodes):\n",
        "    obs = env.reset()\n",
        "    done = False\n",
        "    score = 0\n",
        "    for i in range(episode_length):\n",
        "        T_START = i / 10\n",
        "        T_END = (i + 1) / 10\n",
        "        act = agent.choose_action(obs)\n",
        "        new_state, reward, done, info = env.step(act, T_START, T_END)\n",
        "      \n",
        "        agent.remember(obs, act, reward, new_state, int(done))\n",
        "        agent.learn()\n",
        "        score += reward\n",
        "        obs = new_state\n",
        "        \n",
        "        #env.render()\n",
        "    score_history.append(score / episode_length)\n",
        "\n",
        "    #if i % 25 == 0:\n",
        "    #    agent.save_models()\n",
        "\n",
        "    print('episode ', j, 'score %.2f' % score,\n",
        "          'trailing 100 games avg %.3f' % np.mean(score_history[-100:]))\n",
        "\n",
        "filename = 'LunarLander-alpha000025-beta00025-400-300.png'\n",
        "plotLearning(score_history, filename, window=100)"
      ],
      "execution_count": 114,
      "outputs": [
        {
          "output_type": "stream",
          "text": [
            "episode  0 score -41811.23 trailing 100 games avg -418.112\n",
            "episode  1 score -39793.40 trailing 100 games avg -408.023\n",
            "episode  2 score -39592.00 trailing 100 games avg -403.989\n",
            "episode  3 score -39858.29 trailing 100 games avg -402.637\n",
            "episode  4 score -39856.60 trailing 100 games avg -401.823\n",
            "episode  5 score -39637.67 trailing 100 games avg -400.915\n",
            "episode  6 score -39673.17 trailing 100 games avg -400.318\n",
            "episode  7 score -39671.13 trailing 100 games avg -399.867\n",
            "episode  8 score -39738.90 trailing 100 games avg -399.592\n",
            "episode  9 score -39720.18 trailing 100 games avg -399.353\n",
            "episode  10 score -39372.54 trailing 100 games avg -398.841\n",
            "episode  11 score -39638.30 trailing 100 games avg -398.636\n",
            "episode  12 score -39603.61 trailing 100 games avg -398.436\n",
            "episode  13 score -39630.89 trailing 100 games avg -398.284\n",
            "episode  14 score -39644.04 trailing 100 games avg -398.161\n",
            "episode  15 score -39789.56 trailing 100 games avg -398.145\n",
            "episode  16 score -39854.40 trailing 100 games avg -398.168\n",
            "episode  17 score -39682.82 trailing 100 games avg -398.094\n",
            "episode  18 score -39985.63 trailing 100 games avg -398.187\n",
            "episode  19 score -39714.06 trailing 100 games avg -398.134\n",
            "episode  20 score -39838.57 trailing 100 games avg -398.146\n",
            "episode  21 score -39593.84 trailing 100 games avg -398.046\n",
            "episode  22 score -39677.50 trailing 100 games avg -397.991\n",
            "episode  23 score -39867.50 trailing 100 games avg -398.019\n",
            "episode  24 score -39907.58 trailing 100 games avg -398.061\n",
            "episode  25 score -39880.04 trailing 100 games avg -398.090\n",
            "episode  26 score -39682.17 trailing 100 games avg -398.043\n",
            "episode  27 score -39901.38 trailing 100 games avg -398.078\n"
          ],
          "name": "stdout"
        },
        {
          "output_type": "error",
          "ename": "KeyboardInterrupt",
          "evalue": "ignored",
          "traceback": [
            "\u001b[0;31m---------------------------------------------------------------------------\u001b[0m",
            "\u001b[0;31mKeyboardInterrupt\u001b[0m                         Traceback (most recent call last)",
            "\u001b[0;32m<ipython-input-114-60f8499435f8>\u001b[0m in \u001b[0;36m<module>\u001b[0;34m()\u001b[0m\n\u001b[1;32m     10\u001b[0m         \u001b[0mT_END\u001b[0m \u001b[0;34m=\u001b[0m \u001b[0;34m(\u001b[0m\u001b[0mi\u001b[0m \u001b[0;34m+\u001b[0m \u001b[0;36m1\u001b[0m\u001b[0;34m)\u001b[0m \u001b[0;34m/\u001b[0m \u001b[0;36m10\u001b[0m\u001b[0;34m\u001b[0m\u001b[0;34m\u001b[0m\u001b[0m\n\u001b[1;32m     11\u001b[0m         \u001b[0mact\u001b[0m \u001b[0;34m=\u001b[0m \u001b[0magent\u001b[0m\u001b[0;34m.\u001b[0m\u001b[0mchoose_action\u001b[0m\u001b[0;34m(\u001b[0m\u001b[0mobs\u001b[0m\u001b[0;34m)\u001b[0m\u001b[0;34m\u001b[0m\u001b[0;34m\u001b[0m\u001b[0m\n\u001b[0;32m---> 12\u001b[0;31m         \u001b[0mnew_state\u001b[0m\u001b[0;34m,\u001b[0m \u001b[0mreward\u001b[0m\u001b[0;34m,\u001b[0m \u001b[0mdone\u001b[0m\u001b[0;34m,\u001b[0m \u001b[0minfo\u001b[0m \u001b[0;34m=\u001b[0m \u001b[0menv\u001b[0m\u001b[0;34m.\u001b[0m\u001b[0mstep\u001b[0m\u001b[0;34m(\u001b[0m\u001b[0mact\u001b[0m\u001b[0;34m,\u001b[0m \u001b[0mT_START\u001b[0m\u001b[0;34m,\u001b[0m \u001b[0mT_END\u001b[0m\u001b[0;34m)\u001b[0m\u001b[0;34m\u001b[0m\u001b[0;34m\u001b[0m\u001b[0m\n\u001b[0m\u001b[1;32m     13\u001b[0m \u001b[0;34m\u001b[0m\u001b[0m\n\u001b[1;32m     14\u001b[0m         \u001b[0magent\u001b[0m\u001b[0;34m.\u001b[0m\u001b[0mremember\u001b[0m\u001b[0;34m(\u001b[0m\u001b[0mobs\u001b[0m\u001b[0;34m,\u001b[0m \u001b[0mact\u001b[0m\u001b[0;34m,\u001b[0m \u001b[0mreward\u001b[0m\u001b[0;34m,\u001b[0m \u001b[0mnew_state\u001b[0m\u001b[0;34m,\u001b[0m \u001b[0mint\u001b[0m\u001b[0;34m(\u001b[0m\u001b[0mdone\u001b[0m\u001b[0;34m)\u001b[0m\u001b[0;34m)\u001b[0m\u001b[0;34m\u001b[0m\u001b[0;34m\u001b[0m\u001b[0m\n",
            "\u001b[0;32m<ipython-input-92-399d8482222a>\u001b[0m in \u001b[0;36mstep\u001b[0;34m(self, f, t_start, t_end)\u001b[0m\n\u001b[1;32m     48\u001b[0m         \u001b[0mcosts\u001b[0m \u001b[0;34m=\u001b[0m \u001b[0mnp\u001b[0m\u001b[0;34m.\u001b[0m\u001b[0msum\u001b[0m\u001b[0;34m(\u001b[0m\u001b[0;34m(\u001b[0m\u001b[0mu\u001b[0m\u001b[0;34m[\u001b[0m\u001b[0;34m:\u001b[0m\u001b[0;34m,\u001b[0m \u001b[0;34m-\u001b[0m\u001b[0;36m1\u001b[0m\u001b[0;34m]\u001b[0m \u001b[0;34m-\u001b[0m \u001b[0mself\u001b[0m\u001b[0;34m.\u001b[0m\u001b[0mu_star\u001b[0m\u001b[0;34m)\u001b[0m\u001b[0;34m**\u001b[0m\u001b[0;36m2\u001b[0m\u001b[0;34m)\u001b[0m\u001b[0;34m\u001b[0m\u001b[0;34m\u001b[0m\u001b[0m\n\u001b[1;32m     49\u001b[0m \u001b[0;34m\u001b[0m\u001b[0m\n\u001b[0;32m---> 50\u001b[0;31m         \u001b[0mself\u001b[0m\u001b[0;34m.\u001b[0m\u001b[0mstate\u001b[0m \u001b[0;34m=\u001b[0m \u001b[0mself\u001b[0m\u001b[0;34m.\u001b[0m\u001b[0mburgers\u001b[0m\u001b[0;34m.\u001b[0m\u001b[0mconvection_diffusion\u001b[0m\u001b[0;34m(\u001b[0m\u001b[0mt_start\u001b[0m\u001b[0;34m,\u001b[0m \u001b[0mt_end\u001b[0m\u001b[0;34m,\u001b[0m \u001b[0mself\u001b[0m\u001b[0;34m.\u001b[0m\u001b[0mnu\u001b[0m\u001b[0;34m,\u001b[0m \u001b[0mself\u001b[0m\u001b[0;34m.\u001b[0m\u001b[0meps\u001b[0m\u001b[0;34m,\u001b[0m \u001b[0mu\u001b[0m\u001b[0;34m,\u001b[0m \u001b[0mf\u001b[0m\u001b[0;34m)\u001b[0m\u001b[0;34m\u001b[0m\u001b[0;34m\u001b[0m\u001b[0m\n\u001b[0m\u001b[1;32m     51\u001b[0m         \u001b[0;32mreturn\u001b[0m \u001b[0mself\u001b[0m\u001b[0;34m.\u001b[0m\u001b[0mstate\u001b[0m\u001b[0;34m[\u001b[0m\u001b[0;34m:\u001b[0m\u001b[0;34m,\u001b[0m \u001b[0;34m-\u001b[0m\u001b[0;36m1\u001b[0m\u001b[0;34m]\u001b[0m\u001b[0;34m,\u001b[0m \u001b[0;34m-\u001b[0m\u001b[0mcosts\u001b[0m\u001b[0;34m,\u001b[0m \u001b[0;32mFalse\u001b[0m\u001b[0;34m,\u001b[0m \u001b[0;34m{\u001b[0m\u001b[0;34m}\u001b[0m\u001b[0;34m\u001b[0m\u001b[0;34m\u001b[0m\u001b[0m\n\u001b[1;32m     52\u001b[0m \u001b[0;34m\u001b[0m\u001b[0m\n",
            "\u001b[0;32m<ipython-input-55-9e42f8e397b8>\u001b[0m in \u001b[0;36mconvection_diffusion\u001b[0;34m(self, T_START, T_END, NU, EPS, prev_condition, f_control)\u001b[0m\n\u001b[1;32m     50\u001b[0m     \u001b[0;32mfor\u001b[0m \u001b[0mn\u001b[0m \u001b[0;32min\u001b[0m \u001b[0mrange\u001b[0m\u001b[0;34m(\u001b[0m\u001b[0;36m0\u001b[0m\u001b[0;34m,\u001b[0m\u001b[0mself\u001b[0m\u001b[0;34m.\u001b[0m\u001b[0mNT\u001b[0m\u001b[0;34m-\u001b[0m\u001b[0;36m1\u001b[0m\u001b[0;34m)\u001b[0m\u001b[0;34m:\u001b[0m\u001b[0;34m\u001b[0m\u001b[0;34m\u001b[0m\u001b[0m\n\u001b[1;32m     51\u001b[0m         \u001b[0;32mfor\u001b[0m \u001b[0mi\u001b[0m \u001b[0;32min\u001b[0m \u001b[0mrange\u001b[0m\u001b[0;34m(\u001b[0m\u001b[0;36m0\u001b[0m\u001b[0;34m,\u001b[0m\u001b[0mself\u001b[0m\u001b[0;34m.\u001b[0m\u001b[0mNX\u001b[0m\u001b[0;34m)\u001b[0m\u001b[0;34m:\u001b[0m\u001b[0;34m\u001b[0m\u001b[0;34m\u001b[0m\u001b[0m\n\u001b[0;32m---> 52\u001b[0;31m             \u001b[0mdw\u001b[0m \u001b[0;34m=\u001b[0m \u001b[0mself\u001b[0m\u001b[0;34m.\u001b[0m\u001b[0mNoise\u001b[0m\u001b[0;34m(\u001b[0m\u001b[0mDX\u001b[0m\u001b[0;34m)\u001b[0m\u001b[0;34m\u001b[0m\u001b[0;34m\u001b[0m\u001b[0m\n\u001b[0m\u001b[1;32m     53\u001b[0m             \u001b[0mself\u001b[0m\u001b[0;34m.\u001b[0m\u001b[0mu\u001b[0m\u001b[0;34m[\u001b[0m\u001b[0mi\u001b[0m\u001b[0;34m,\u001b[0m\u001b[0mn\u001b[0m\u001b[0;34m+\u001b[0m\u001b[0;36m1\u001b[0m\u001b[0;34m]\u001b[0m \u001b[0;34m=\u001b[0m \u001b[0;34m(\u001b[0m\u001b[0mself\u001b[0m\u001b[0;34m.\u001b[0m\u001b[0mu\u001b[0m\u001b[0;34m[\u001b[0m\u001b[0mi\u001b[0m\u001b[0;34m,\u001b[0m\u001b[0mn\u001b[0m\u001b[0;34m]\u001b[0m\u001b[0;34m-\u001b[0m\u001b[0mself\u001b[0m\u001b[0;34m.\u001b[0m\u001b[0mu\u001b[0m\u001b[0;34m[\u001b[0m\u001b[0mi\u001b[0m\u001b[0;34m,\u001b[0m\u001b[0mn\u001b[0m\u001b[0;34m]\u001b[0m\u001b[0;34m*\u001b[0m\u001b[0;34m(\u001b[0m\u001b[0mDT\u001b[0m\u001b[0;34m/\u001b[0m\u001b[0mDX\u001b[0m\u001b[0;34m)\u001b[0m\u001b[0;34m*\u001b[0m\u001b[0;34m(\u001b[0m\u001b[0mself\u001b[0m\u001b[0;34m.\u001b[0m\u001b[0mu\u001b[0m\u001b[0;34m[\u001b[0m\u001b[0mi\u001b[0m\u001b[0;34m,\u001b[0m\u001b[0mn\u001b[0m\u001b[0;34m]\u001b[0m\u001b[0;34m-\u001b[0m\u001b[0mself\u001b[0m\u001b[0;34m.\u001b[0m\u001b[0mu\u001b[0m\u001b[0;34m[\u001b[0m\u001b[0mint\u001b[0m\u001b[0;34m(\u001b[0m\u001b[0mineg\u001b[0m\u001b[0;34m[\u001b[0m\u001b[0mi\u001b[0m\u001b[0;34m]\u001b[0m\u001b[0;34m)\u001b[0m\u001b[0;34m,\u001b[0m\u001b[0mn\u001b[0m\u001b[0;34m]\u001b[0m\u001b[0;34m)\u001b[0m\u001b[0;34m+\u001b[0m \u001b[0mNU\u001b[0m\u001b[0;34m*\u001b[0m\u001b[0;34m(\u001b[0m\u001b[0mDT\u001b[0m\u001b[0;34m/\u001b[0m\u001b[0mDX\u001b[0m\u001b[0;34m**\u001b[0m\u001b[0;36m2\u001b[0m\u001b[0;34m)\u001b[0m\u001b[0;34m*\u001b[0m\u001b[0;34m(\u001b[0m\u001b[0mself\u001b[0m\u001b[0;34m.\u001b[0m\u001b[0mu\u001b[0m\u001b[0;34m[\u001b[0m\u001b[0mint\u001b[0m\u001b[0;34m(\u001b[0m\u001b[0mipos\u001b[0m\u001b[0;34m[\u001b[0m\u001b[0mi\u001b[0m\u001b[0;34m]\u001b[0m\u001b[0;34m)\u001b[0m\u001b[0;34m,\u001b[0m\u001b[0mn\u001b[0m\u001b[0;34m]\u001b[0m\u001b[0;34m-\u001b[0m\u001b[0;36m2\u001b[0m\u001b[0;34m*\u001b[0m\u001b[0mself\u001b[0m\u001b[0;34m.\u001b[0m\u001b[0mu\u001b[0m\u001b[0;34m[\u001b[0m\u001b[0mi\u001b[0m\u001b[0;34m,\u001b[0m\u001b[0mn\u001b[0m\u001b[0;34m]\u001b[0m\u001b[0;34m+\u001b[0m\u001b[0mself\u001b[0m\u001b[0;34m.\u001b[0m\u001b[0mu\u001b[0m\u001b[0;34m[\u001b[0m\u001b[0mint\u001b[0m\u001b[0;34m(\u001b[0m\u001b[0mineg\u001b[0m\u001b[0;34m[\u001b[0m\u001b[0mi\u001b[0m\u001b[0;34m]\u001b[0m\u001b[0;34m)\u001b[0m\u001b[0;34m,\u001b[0m\u001b[0mn\u001b[0m\u001b[0;34m]\u001b[0m\u001b[0;34m)\u001b[0m \u001b[0;34m+\u001b[0m \u001b[0;34m(\u001b[0m\u001b[0mEPS\u001b[0m\u001b[0;34m/\u001b[0m\u001b[0mDX\u001b[0m\u001b[0;34m)\u001b[0m \u001b[0;34m*\u001b[0m \u001b[0mdw\u001b[0m\u001b[0;34m)\u001b[0m \u001b[0;34m+\u001b[0m \u001b[0mf_control\u001b[0m\u001b[0;34m[\u001b[0m\u001b[0mi\u001b[0m\u001b[0;34m]\u001b[0m \u001b[0...\n\u001b[1;32m     54\u001b[0m \u001b[0;34m\u001b[0m\u001b[0m\n",
            "\u001b[0;32m<ipython-input-55-9e42f8e397b8>\u001b[0m in \u001b[0;36mNoise\u001b[0;34m(Dx)\u001b[0m\n\u001b[1;32m     14\u001b[0m   \u001b[0;34m@\u001b[0m\u001b[0mstaticmethod\u001b[0m\u001b[0;34m\u001b[0m\u001b[0;34m\u001b[0m\u001b[0m\n\u001b[1;32m     15\u001b[0m   \u001b[0;32mdef\u001b[0m \u001b[0mNoise\u001b[0m\u001b[0;34m(\u001b[0m\u001b[0mDx\u001b[0m\u001b[0;34m)\u001b[0m\u001b[0;34m:\u001b[0m\u001b[0;34m\u001b[0m\u001b[0;34m\u001b[0m\u001b[0m\n\u001b[0;32m---> 16\u001b[0;31m       \u001b[0;32mreturn\u001b[0m \u001b[0mnp\u001b[0m\u001b[0;34m.\u001b[0m\u001b[0mrandom\u001b[0m\u001b[0;34m.\u001b[0m\u001b[0mnormal\u001b[0m\u001b[0;34m(\u001b[0m\u001b[0mloc\u001b[0m\u001b[0;34m=\u001b[0m\u001b[0;36m0.0\u001b[0m\u001b[0;34m,\u001b[0m \u001b[0mscale\u001b[0m\u001b[0;34m=\u001b[0m\u001b[0mnp\u001b[0m\u001b[0;34m.\u001b[0m\u001b[0msqrt\u001b[0m\u001b[0;34m(\u001b[0m\u001b[0mDx\u001b[0m\u001b[0;34m)\u001b[0m\u001b[0;34m)\u001b[0m\u001b[0;34m\u001b[0m\u001b[0;34m\u001b[0m\u001b[0m\n\u001b[0m\u001b[1;32m     17\u001b[0m \u001b[0;34m\u001b[0m\u001b[0m\n\u001b[1;32m     18\u001b[0m   \u001b[0;32mdef\u001b[0m \u001b[0mInitialCondition\u001b[0m\u001b[0;34m(\u001b[0m\u001b[0mself\u001b[0m\u001b[0;34m,\u001b[0m \u001b[0mNU\u001b[0m\u001b[0;34m)\u001b[0m\u001b[0;34m:\u001b[0m\u001b[0;34m\u001b[0m\u001b[0;34m\u001b[0m\u001b[0m\n",
            "\u001b[0;31mKeyboardInterrupt\u001b[0m: "
          ]
        }
      ]
    },
    {
      "cell_type": "markdown",
      "metadata": {
        "id": "8vXbkFdlsjX-"
      },
      "source": [
        ""
      ]
    }
  ]
}