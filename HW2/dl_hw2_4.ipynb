{
 "cells": [
  {
   "cell_type": "code",
   "execution_count": 1,
   "metadata": {
    "collapsed": false
   },
   "outputs": [
    {
     "data": {
      "text/plain": [
       "' اشاره شود که تمامی تمرین ها را من به کمک سرور آزمایشگاه دکتر ربیعی انجام دادم '"
      ]
     },
     "execution_count": 1,
     "metadata": {},
     "output_type": "execute_result"
    }
   ],
   "source": [
    "import tensorflow as tf\n",
    "import numpy as np\n",
    "import os\n",
    "import pickle\n",
    "import random\n",
    "\n",
    "os.environ[\"CUDA_DEVICE_ORDER\"]=\"PCI_BUS_ID\"\n",
    "os.environ[\"CUDA_VISIBLE_DEVICES\"]=\"1\"\n",
    "\n",
    "' اشاره شود که تمامی تمرین ها را من به کمک سرور آزمایشگاه دکتر ربیعی انجام دادم '"
   ]
  },
  {
   "cell_type": "code",
   "execution_count": 2,
   "metadata": {
    "collapsed": false
   },
   "outputs": [],
   "source": [
    "def unpickle(file):\n",
    "    with open(file, 'rb') as fo:\n",
    "        data = pickle.load(fo, encoding='bytes')\n",
    "    return data\n",
    "\n",
    "\n",
    "data_batch1 = unpickle('../Ehsan/Dataset/HW2/cifar-10-batches-py/data_batch_1')\n",
    "data_batch2 = unpickle('../Ehsan/Dataset/HW2/cifar-10-batches-py/data_batch_2')\n",
    "data_batch3 = unpickle('../Ehsan/Dataset/HW2/cifar-10-batches-py/data_batch_3')\n",
    "data_batch4 = unpickle('../Ehsan/Dataset/HW2/cifar-10-batches-py/data_batch_4')\n",
    "data_batch5 = unpickle('../Ehsan/Dataset/HW2/cifar-10-batches-py/data_batch_5')\n",
    "data_test = unpickle('../Ehsan/Dataset/HW2/cifar-10-batches-py/test_batch')\n",
    "\n",
    "train_x = np.concatenate((data_batch1[b'data'],\n",
    "                                    data_batch2[b'data'],\n",
    "                                    data_batch3[b'data'],\n",
    "                                    data_batch4[b'data'],\n",
    "                                    data_batch5[b'data'],), axis=0)\n",
    "train_y = np.concatenate((data_batch1[b'labels']\n",
    "                              , data_batch2[b'labels']\n",
    "                              , data_batch3[b'labels']\n",
    "                              , data_batch4[b'labels']\n",
    "                              , data_batch5[b'labels'],), axis=0)\n",
    "\n",
    "test_x = data_test[b'data']\n",
    "test_y = np.array(data_test[b'labels'])\n",
    "del data_batch1, data_batch2, data_batch3, data_batch4, data_batch5, data_test"
   ]
  },
  {
   "cell_type": "code",
   "execution_count": 3,
   "metadata": {
    "collapsed": false
   },
   "outputs": [],
   "source": [
    "train_x = np.array(train_x)\n",
    "train_x = np.reshape(train_x, (50000, 3, 32, 32))\n",
    "train_x = np.transpose(train_x, (0, 2, 3, 1))\n",
    "\n",
    "test_x = np.array(test_x)\n",
    "test_x = np.reshape(test_x, (10000, 3, 32, 32))\n",
    "test_x = np.transpose(test_x, (0, 2, 3, 1))\n",
    "\n",
    "train_y = np.array(train_y)\n",
    "train_y = np.reshape(train_y, (50000, 1))\n",
    "\n",
    "test_y = np.array(test_y)\n",
    "test_y = np.reshape(test_y, (10000, 1))"
   ]
  },
  {
   "cell_type": "code",
   "execution_count": 4,
   "metadata": {
    "collapsed": false
   },
   "outputs": [
    {
     "name": "stdout",
     "output_type": "stream",
     "text": [
      "[9]\n"
     ]
    }
   ],
   "source": [
    "print(test_y[50])"
   ]
  },
  {
   "cell_type": "code",
   "execution_count": 5,
   "metadata": {
    "collapsed": false
   },
   "outputs": [],
   "source": [
    "def to_one_hat(y):\n",
    "    o = np.zeros((len(y), 10))\n",
    "    for i in range(len(y)):\n",
    "        o[i][y[i] - 1] = 1\n",
    "    return o\n",
    "\n",
    "test_y = to_one_hat(test_y)\n",
    "train_y = to_one_hat(train_y)"
   ]
  },
  {
   "cell_type": "code",
   "execution_count": 6,
   "metadata": {
    "collapsed": false
   },
   "outputs": [
    {
     "name": "stdout",
     "output_type": "stream",
     "text": [
      "(32, 32, 3)\n"
     ]
    }
   ],
   "source": [
    "print(train_x[2].shape)"
   ]
  },
  {
   "cell_type": "code",
   "execution_count": 7,
   "metadata": {
    "collapsed": false
   },
   "outputs": [
    {
     "name": "stdout",
     "output_type": "stream",
     "text": [
      "[ 0.  0.  0.  0.  0.  0.  0.  0.  1.  0.]\n"
     ]
    },
    {
     "data": {
      "image/png": "[encoded data removed]",
      "text/plain": [
       "<matplotlib.figure.Figure at 0x7f0ecfee0b70>"
      ]
     },
     "metadata": {},
     "output_type": "display_data"
    }
   ],
   "source": [
    "import matplotlib.pyplot as plt\n",
    "%matplotlib inline\n",
    "fig, axs = plt.subplots(figsize=(5,5))\n",
    "\n",
    "axs.set_axis_off()\n",
    "axs.imshow(train_x[2], )\n",
    "print(train_y[2])\n",
    "plt.show()"
   ]
  },
  {
   "cell_type": "code",
   "execution_count": 26,
   "metadata": {
    "collapsed": false
   },
   "outputs": [],
   "source": [
    "learning_rate = 0.00005\n",
    "\n",
    "conv_filter_size = 5\n",
    "\n",
    "conv_stride_size = 1\n",
    "conv_layers = 64\n",
    "\n",
    "pool_filter_size = 3\n",
    "pool_stride_size = 2\n",
    "\n",
    "fc1_size = 512\n",
    "\n",
    "\n",
    "X = tf.placeholder(tf.float32, [None, 32, 32, 3], name='X_placeholder')\n",
    "Y = tf.placeholder(tf.float32, [None, 10], name='Y_placeholder')\n",
    "\n",
    "conv1_filter = tf.Variable(tf.random_normal([conv_filter_size, conv_filter_size, 3, conv_layers], name = \"conv1_filter\"))\n",
    "bias_conv1 = tf.Variable(tf.fill([conv_layers], 0.01, name = \"bias_conv1\"))\n",
    "conv1 = tf.nn.conv2d(X, \n",
    "                    conv1_filter,\n",
    "                    strides = [1, conv_stride_size, conv_stride_size, 1], \n",
    "                     padding=\"SAME\", \n",
    "                     name = \"conv1\") + bias_conv1\n",
    "\n",
    "conv1_relu = tf.nn.relu(conv1, name = \"conv1_relu\")\n",
    "pool1 = tf.nn.max_pool(conv1_relu,\n",
    "                      ksize = [1, pool_filter_size, pool_filter_size, 1],\n",
    "                      strides = [1, pool_stride_size, pool_stride_size, 1],\n",
    "                       padding=\"SAME\",\n",
    "                       name = \"pool1\")\n",
    "\n",
    "\n",
    "conv2_filter = tf.Variable(tf.random_normal([conv_filter_size, conv_filter_size, conv_layers, conv_layers], name = \"conv2_filter\"))\n",
    "bias_conv2 = tf.Variable(tf.fill([conv_layers], 0.01, name = \"bias_conv2\"))\n",
    "conv2 = tf.nn.conv2d(pool1, \n",
    "                    conv2_filter,\n",
    "                    strides = [1, conv_stride_size, conv_stride_size, 1],\n",
    "                    padding=\"SAME\",\n",
    "                    name = \"conv2\") + bias_conv2\n",
    "\n",
    "conv2_relu = tf.nn.relu(conv2, \"conv2_relu\")\n",
    "pool2 = tf.nn.max_pool(conv2_relu,\n",
    "                      ksize = [1, pool_filter_size, pool_filter_size, 1],\n",
    "                      strides = [1, pool_stride_size, pool_stride_size, 1],\n",
    "                      padding=\"SAME\"\n",
    "                      )\n",
    "\n",
    "pool2 = tf.reshape(pool2, (-1, 4096), name = \"pool2\")\n",
    "\n",
    "def fullLayer(input_data, output_size, act, name):\n",
    "    w = tf.Variable(tf.random_normal([input_data.get_shape().as_list()[1], output_size], stddev = 0.2), name = name + \"weigth\")\n",
    "    b = tf.Variable(tf.random_normal([output_size], stddev = 0.2), name = name+ \"bias\")\n",
    "    return act(tf.matmul(input_data, w) + b , name = name)\n",
    "\n",
    "fc1 = fullLayer(pool2, fc1_size, tf.nn.relu, \"fc1\")\n",
    "fc2 = fullLayer(fc1, 10, tf.identity, \"fc2\")\n",
    "\n",
    "pred = tf.nn.softmax(fc2, name = \"predications\")\n",
    "\n",
    "##check how many of them are correct arg maxx is used because Y is one hat\n",
    "correct_preds = tf.equal(tf.argmax(fc2, 1), tf.argmax(Y, 1))\n",
    "accuracy = tf.reduce_mean(tf.cast(correct_preds, tf.float32))\n",
    "\n",
    "entropy = tf.nn.softmax_cross_entropy_with_logits(logits=fc2, labels=Y, name='loss')\n",
    "\n",
    "loss = tf.reduce_mean(entropy, name = \"loss\") \n",
    "\n",
    "optimizer = tf.train.AdamOptimizer(learning_rate=learning_rate).minimize(loss)\n",
    "\n"
   ]
  },
  {
   "cell_type": "code",
   "execution_count": 27,
   "metadata": {
    "collapsed": false
   },
   "outputs": [
    {
     "name": "stdout",
     "output_type": "stream",
     "text": [
      "step 1000, Avereage Loss :258265.131265625, Accuracy : 0.241600\n",
      "step 2000, Avereage Loss :136638.4595703125, Accuracy : 0.322060\n",
      "step 3000, Avereage Loss :111074.36673046876, Accuracy : 0.357380\n",
      "step 4000, Avereage Loss :95063.83709375, Accuracy : 0.380720\n",
      "step 5000, Avereage Loss :84431.97319921874, Accuracy : 0.399700\n",
      "step 6000, Avereage Loss :75843.83893359375, Accuracy : 0.418520\n",
      "step 7000, Avereage Loss :69243.3822421875, Accuracy : 0.430920\n",
      "step 8000, Avereage Loss :63744.264390625, Accuracy : 0.445960\n",
      "step 9000, Avereage Loss :58872.39362109375, Accuracy : 0.457200\n",
      "step 10000, Avereage Loss :54785.97907421875, Accuracy : 0.470300\n",
      "step 11000, Avereage Loss :51236.704130859376, Accuracy : 0.480380\n",
      "step 12000, Avereage Loss :47868.43945507812, Accuracy : 0.491360\n",
      "step 13000, Avereage Loss :44947.928681640624, Accuracy : 0.502320\n",
      "step 14000, Avereage Loss :42437.04086914063, Accuracy : 0.507480\n",
      "step 15000, Avereage Loss :39987.266815429684, Accuracy : 0.519460\n",
      "step 16000, Avereage Loss :37657.73091992187, Accuracy : 0.528040\n",
      "step 17000, Avereage Loss :35803.37168164062, Accuracy : 0.536180\n",
      "step 18000, Avereage Loss :33896.68546679687, Accuracy : 0.544440\n",
      "step 19000, Avereage Loss :32166.75180078125, Accuracy : 0.552820\n",
      "step 20000, Avereage Loss :30304.22738183594, Accuracy : 0.560400\n",
      "step 21000, Avereage Loss :28894.111012695314, Accuracy : 0.569000\n",
      "step 22000, Avereage Loss :27347.915538085937, Accuracy : 0.577700\n",
      "step 23000, Avereage Loss :26112.896762695313, Accuracy : 0.580960\n",
      "step 24000, Avereage Loss :24821.7396171875, Accuracy : 0.590860\n",
      "step 25000, Avereage Loss :23633.564964355468, Accuracy : 0.597720\n",
      "step 26000, Avereage Loss :22582.773294433595, Accuracy : 0.605140\n",
      "step 27000, Avereage Loss :21431.102173339845, Accuracy : 0.611440\n",
      "step 28000, Avereage Loss :20627.88313623047, Accuracy : 0.616160\n",
      "step 29000, Avereage Loss :19485.117551757812, Accuracy : 0.625640\n",
      "step 30000, Avereage Loss :18622.75729223633, Accuracy : 0.632300\n"
     ]
    }
   ],
   "source": [
    "##just some config for not getting whole server\n",
    "gpu_options = tf.GPUOptions(allow_growth=True)\n",
    "config = tf.ConfigProto(gpu_options=gpu_options)\n",
    "sess =  tf.Session(config = config) \n",
    "    \n",
    "num_epochs = 30\n",
    "batch_size = 50\n",
    "\n",
    "##initialize the variables\n",
    "sess.run(tf.global_variables_initializer())\n",
    "\n",
    "n_batches = 50000 // batch_size\n",
    "for i in range(num_epochs):\n",
    "    total_loss = 0\n",
    "    total_acc = 0\n",
    "    \n",
    "    conc = list(zip(train_x, train_y))\n",
    "    random.shuffle(conc)\n",
    "    train_x, train_y = zip(*conc)\n",
    "    \n",
    "    for j in range(n_batches):\n",
    "        X_batch, Y_batch = train_x[j * batch_size:(j+1) * batch_size], train_y[j * batch_size:(j+1) * batch_size]\n",
    "        _, loss_batch, acc_batch = sess.run([optimizer, loss, accuracy], feed_dict={X: X_batch, Y: Y_batch})\n",
    "\n",
    "        total_loss += loss_batch\n",
    "        total_acc += acc_batch\n",
    "\n",
    "\n",
    "    print('step {}, Avereage Loss :{}, Accuracy : {:.6f}'.format( (i+1) * n_batches, total_loss / n_batches,  total_acc / n_batches ))\n",
    "\n",
    "\n"
   ]
  },
  {
   "cell_type": "code",
   "execution_count": null,
   "metadata": {
    "collapsed": true
   },
   "outputs": [],
   "source": [
    "'''\n",
    "نکته ای که باید اشاره کنم این است که من لرنینگ ریت ها و تابع اکتیویشن ها و استاندارد دوییشن های متفاوتی برای مقدار گذاری اولیه ی \n",
    "لایه های فولی کانکتد امتحان کردم\n",
    "'''"
   ]
  },
  {
   "cell_type": "code",
   "execution_count": 28,
   "metadata": {
    "collapsed": false
   },
   "outputs": [
    {
     "name": "stdout",
     "output_type": "stream",
     "text": [
      "test Accuracy , 0.5078999841213226\n"
     ]
    }
   ],
   "source": [
    "n_batches = 10000 // batch_size\n",
    "total_correct_preds = 0\n",
    "for i in range(n_batches):\n",
    "    ## test batches\n",
    "    X_batch, Y_batch = test_x[i * batch_size:(i+1) * batch_size], test_y[i * batch_size:(i+1) * batch_size]\n",
    "    accuracy_batch  = sess.run([accuracy, ], feed_dict={X: X_batch, Y: Y_batch})\n",
    "\n",
    "\n",
    "    total_correct_preds += accuracy_batch[0]\n",
    "print('test Accuracy , {}'.format(total_correct_preds / n_batches ))"
   ]
  },
  {
   "cell_type": "code",
   "execution_count": 30,
   "metadata": {
    "collapsed": false
   },
   "outputs": [
    {
     "data": {
      "text/plain": [
       "'Models/Model-2017-11-05-22-07'"
      ]
     },
     "execution_count": 30,
     "metadata": {},
     "output_type": "execute_result"
    }
   ],
   "source": [
    "import datetime\n",
    "date = datetime.datetime.now().strftime(\"%Y-%m-%d-%H-%M\")\n",
    "saver = tf.train.Saver()\n",
    "saver.save(sess, 'Models/Model-{}'.format(date))"
   ]
  },
  {
   "cell_type": "code",
   "execution_count": 31,
   "metadata": {
    "collapsed": false
   },
   "outputs": [],
   "source": [
    "filter1, filter2 = sess.run([conv1_filter, conv2_filter])"
   ]
  },
  {
   "cell_type": "code",
   "execution_count": 32,
   "metadata": {
    "collapsed": false
   },
   "outputs": [
    {
     "name": "stdout",
     "output_type": "stream",
     "text": [
      "(5, 5, 3, 64)\n"
     ]
    }
   ],
   "source": [
    "print(filter1.shape)"
   ]
  },
  {
   "cell_type": "code",
   "execution_count": 43,
   "metadata": {
    "collapsed": false
   },
   "outputs": [
    {
     "data": {
      "image/png": "[encoded data removed]",
      "text/plain": [
       "<matplotlib.figure.Figure at 0x7f0dfde5c3c8>"
      ]
     },
     "metadata": {},
     "output_type": "display_data"
    },
    {
     "data": {
      "text/plain": [
       "'\\nاین کل فیلتر لایه ی اول است\\n'"
      ]
     },
     "execution_count": 43,
     "metadata": {},
     "output_type": "execute_result"
    }
   ],
   "source": [
    "fig, axs = plt.subplots(8,8, figsize = (8, 8))\n",
    "for i in range(8):\n",
    "    for j in range(8):\n",
    "        axs[i,j].set_axis_off()\n",
    "        axs[i,j].imshow(filter1[:,: , :,i * 8 + j], )\n",
    "\n",
    "\n",
    "plt.show()\n",
    "'''\n",
    "این کل فیلتر لایه ی اول است\n",
    "'''"
   ]
  },
  {
   "cell_type": "code",
   "execution_count": 38,
   "metadata": {
    "collapsed": false
   },
   "outputs": [
    {
     "data": {
      "image/png": "[encoded data removed]",
      "text/plain": [
       "<matplotlib.figure.Figure at 0x7f0dfc27db70>"
      ]
     },
     "metadata": {},
     "output_type": "display_data"
    },
    {
     "data": {
      "text/plain": [
       "'\\nاین میانگین فیلتر های لایه ی دوم است\\n'"
      ]
     },
     "execution_count": 38,
     "metadata": {},
     "output_type": "execute_result"
    }
   ],
   "source": [
    "fig, axs = plt.subplots(8,8, figsize = (8,8))\n",
    "for i in range(8):\n",
    "    for j in range(8):\n",
    "        axs[i,j].set_axis_off()\n",
    "        axs[i,j].imshow(np.mean(filter2[:,: , :,i * 8 + j],axis =2))\n",
    "\n",
    "\n",
    "plt.show()\n",
    "'''\n",
    "این میانگین فیلتر های لایه ی دوم است\n",
    "'''"
   ]
  },
  {
   "cell_type": "code",
   "execution_count": 39,
   "metadata": {
    "collapsed": false
   },
   "outputs": [
    {
     "data": {
      "image/png": "[encoded data removed]",
      "text/plain": [
       "<matplotlib.figure.Figure at 0x7f0df7a50ac8>"
      ]
     },
     "metadata": {},
     "output_type": "display_data"
    },
    {
     "data": {
      "text/plain": [
       "'\\nاین میانگین فیلتر های لایه ی یکی از است\\n'"
      ]
     },
     "execution_count": 39,
     "metadata": {},
     "output_type": "execute_result"
    }
   ],
   "source": [
    "fig, axs = plt.subplots(8,8, figsize = (8,8))\n",
    "for i in range(8):\n",
    "    for j in range(8):\n",
    "        axs[i,j].set_axis_off()\n",
    "        axs[i,j].imshow(filter2[:,: , 0,i * 8 + j])\n",
    "\n",
    "\n",
    "plt.show()\n",
    "'''\n",
    "این میانگین فیلتر های لایه ی یکی از است\n",
    "'''"
   ]
  },
  {
   "cell_type": "code",
   "execution_count": null,
   "metadata": {
    "collapsed": true
   },
   "outputs": [],
   "source": [
    "'''\n",
    "فیلتر های لایه اول منطقی بود که چیز های ساده مثل خط را تشخیص دهد\n",
    "مثل لبه یا رنگ ولی خب جای مشخصی که همه همرنگ باشند پیدا نکردم\n",
    "لایه های بالاتر هم باید چیز های پبچبده تری نشان می دادند\n",
    "ولی برای آن ها هم پیزی مشخص نیست\n",
    "'''"
   ]
  },
  {
   "cell_type": "code",
   "execution_count": 44,
   "metadata": {
    "collapsed": true
   },
   "outputs": [],
   "source": [
    "sess.close()"
   ]
  },
  {
   "cell_type": "code",
   "execution_count": 45,
   "metadata": {
    "collapsed": false
   },
   "outputs": [],
   "source": [
    "data = np.load('../Ehsan/Dataset/HW2/cifar_0_29.npy').item()"
   ]
  },
  {
   "cell_type": "code",
   "execution_count": 46,
   "metadata": {
    "collapsed": true
   },
   "outputs": [],
   "source": [
    "x = np.array(data['data'])\n",
    "x = np.reshape(x, (1200, 3, 32, 32))\n",
    "x = np.transpose(x, (0, 2, 3, 1))\n",
    "y = np.array(data['labels'])\n",
    "y = np.reshape(y, [1200, 1])\n",
    "train_x = x[:1000]\n",
    "train_y = y[:1000]\n",
    "test_x = x[1000:]\n",
    "test_y = y[1000:]"
   ]
  },
  {
   "cell_type": "code",
   "execution_count": 47,
   "metadata": {
    "collapsed": false
   },
   "outputs": [],
   "source": [
    "def to_one_hat(y):\n",
    "    o = np.zeros((len(y), 2))\n",
    "    for i in range(len(y)):\n",
    "        o[i][y[i] - 1] = 1\n",
    "    return o\n",
    "\n",
    "test_y = to_one_hat(test_y)\n",
    "train_y = to_one_hat(train_y)"
   ]
  },
  {
   "cell_type": "code",
   "execution_count": 48,
   "metadata": {
    "collapsed": false
   },
   "outputs": [
    {
     "name": "stdout",
     "output_type": "stream",
     "text": [
      "INFO:tensorflow:Restoring parameters from Models/./Model-2017-11-05-22-07\n"
     ]
    }
   ],
   "source": [
    "ses = tf.Session()\n",
    "saver = tf.train.import_meta_graph('Models/Model-2017-11-05-22-07.meta')\n",
    "saver.restore(ses,tf.train.latest_checkpoint('Models/.'))"
   ]
  },
  {
   "cell_type": "code",
   "execution_count": 49,
   "metadata": {
    "collapsed": false
   },
   "outputs": [],
   "source": [
    "conv1_filter_v1, conv2_filter_v1 = ses.run([\"conv1_filter:0\", \"conv2_filter:0\"])\n",
    "'''\n",
    "تنها چیزی که از شبکه ی قبلی لازم است برداریم همین است زیرا مکس پول که پارامتری ندارد و بقیه ی چیز ها ثابت است\n",
    "'''"
   ]
  },
  {
   "cell_type": "code",
   "execution_count": 50,
   "metadata": {
    "collapsed": false
   },
   "outputs": [
    {
     "name": "stdout",
     "output_type": "stream",
     "text": [
      "[[[[ 0.66996729  0.66795802 -0.16982313 ...,  0.43888891  1.24968183\n",
      "    -0.33559933]\n",
      "   [ 0.14838196  2.10361409  0.31219965 ..., -0.2023816   0.64850134\n",
      "     0.63212764]\n",
      "   [-0.13794193  0.87304664 -0.13871939 ..., -0.19375172 -0.36161172\n",
      "     2.47820139]]\n",
      "\n",
      "  [[-0.51326674 -2.62735677  0.60100108 ..., -0.34853855 -0.04866505\n",
      "     0.70277184]\n",
      "   [-0.25661087  1.46566403 -0.16003683 ...,  1.29998446  1.9607507\n",
      "    -1.135921  ]\n",
      "   [ 0.21266921  1.38885808  1.54226744 ...,  0.62166023  0.49093598\n",
      "     1.59687567]]\n",
      "\n",
      "  [[-0.81894398  0.24457811 -1.21814001 ...,  1.57684994  0.33029401\n",
      "    -0.35818693]\n",
      "   [ 0.01183102  0.5695551   0.27856123 ..., -1.0723846  -0.15918285\n",
      "     1.34488106]\n",
      "   [ 1.4593178   0.89695072  1.61908817 ..., -1.23993695  0.30601177\n",
      "    -0.00790482]]\n",
      "\n",
      "  [[-0.73831284  0.31524047 -1.0760442  ...,  1.80274868  1.75575256\n",
      "    -0.27049631]\n",
      "   [ 0.33862823  0.76851058  0.15522565 ..., -1.04843879  0.10011356\n",
      "    -0.36508298]\n",
      "   [ 0.50561863  0.12264922  0.46623608 ...,  0.82564837  1.00357604\n",
      "    -0.15701105]]\n",
      "\n",
      "  [[-0.04420084  1.43770421 -0.46091169 ...,  0.3928223   1.24794388\n",
      "    -0.2033187 ]\n",
      "   [ 1.18412232 -2.12275743  1.56981874 ...,  0.38885882 -0.87468076\n",
      "    -0.2737633 ]\n",
      "   [ 1.22897398  1.26817143  0.46345362 ..., -0.73149759  0.73780859\n",
      "     0.08974185]]]\n",
      "\n",
      "\n",
      " [[[-0.06146489  1.06665576  0.34093451 ...,  0.46195439 -2.1808567\n",
      "    -1.7709924 ]\n",
      "   [ 0.20408536  1.53473806  1.67037523 ...,  0.15566373 -0.56741858\n",
      "    -0.4052285 ]\n",
      "   [-0.19578476  0.89607459 -0.25351152 ...,  0.66030931  0.91348022\n",
      "     1.94782043]]\n",
      "\n",
      "  [[ 0.26470143  0.92584234  1.15263057 ...,  1.06135118  1.31566656\n",
      "    -0.57612491]\n",
      "   [-0.5119651   1.15820193 -0.69590807 ...,  2.32555866 -1.17196953\n",
      "     0.83762133]\n",
      "   [ 0.773754   -1.19326961 -0.10950738 ..., -0.12354954 -0.00847557\n",
      "    -1.63447523]]\n",
      "\n",
      "  [[-0.70573127 -0.46100658  0.98963267 ..., -0.41325235 -0.39132851\n",
      "     1.037305  ]\n",
      "   [ 0.16176046 -0.647479   -0.89266545 ..., -0.88281322  0.45645717\n",
      "     0.01002693]\n",
      "   [-2.31441307  1.20031977  0.68231446 ...,  0.08089035  1.05972588\n",
      "     0.75145841]]\n",
      "\n",
      "  [[-0.43159491  0.93187624 -0.93245685 ..., -0.27536979  0.02389613\n",
      "     1.07928383]\n",
      "   [ 1.69973886  0.90717942  1.6367811  ...,  1.17366195 -2.36532688\n",
      "     0.21436387]\n",
      "   [ 0.58610761 -0.35005513 -0.38968214 ..., -1.89913571 -1.05260599\n",
      "     2.58232164]]\n",
      "\n",
      "  [[-2.39581013  0.1850719   1.1597259  ...,  1.41709328  2.01251388\n",
      "     0.100987  ]\n",
      "   [ 0.44973361 -0.2343338   1.13105309 ..., -0.96381044  0.51144588\n",
      "     0.81583059]\n",
      "   [ 0.45060977  0.8417179   0.27650055 ..., -0.03812871 -0.90493608\n",
      "    -2.07527232]]]\n",
      "\n",
      "\n",
      " [[[-1.69275141  1.39198744 -1.40786719 ..., -1.04698777 -1.18587279\n",
      "     1.21115983]\n",
      "   [-0.80103046 -0.73328453 -0.09380524 ..., -0.34253263 -1.94898152\n",
      "    -0.09498741]\n",
      "   [-1.49282849  0.69092274  1.84774745 ...,  1.01701236  0.15657385\n",
      "    -1.0858202 ]]\n",
      "\n",
      "  [[ 0.50764447  0.56831211  0.98421043 ..., -0.10697439 -1.31259787\n",
      "     0.9708631 ]\n",
      "   [ 0.72097051  0.62147653  2.35219765 ..., -1.31120563 -0.18568204\n",
      "     0.95489556]\n",
      "   [-0.6127454  -0.89372998 -1.9174217  ..., -0.14427544 -0.86317474\n",
      "     0.33015206]]\n",
      "\n",
      "  [[-0.92612642  0.83439445  1.35937691 ..., -1.67180765 -1.05857408\n",
      "    -1.09096873]\n",
      "   [ 0.94564122  0.13871227 -1.11285007 ...,  0.56252825 -0.48755661\n",
      "     0.95546192]\n",
      "   [ 0.98293924  0.52309966 -0.63944471 ...,  1.53176427 -0.19432549\n",
      "     1.99923539]]\n",
      "\n",
      "  [[ 0.1679925   0.31406835  1.63646376 ..., -0.35436836  0.1868791\n",
      "    -2.95689511]\n",
      "   [-2.73693848  0.50308996  0.204797   ...,  0.34689453 -0.14874765\n",
      "     1.31978893]\n",
      "   [ 0.4695262  -1.57269681 -0.24065548 ...,  0.62048978  1.3636384\n",
      "    -0.5873186 ]]\n",
      "\n",
      "  [[ 0.12083205  0.30620936 -0.04542751 ..., -1.00375259 -0.16838755\n",
      "     0.34326753]\n",
      "   [-0.16025908  1.08504295 -0.4762935  ..., -0.85969925 -1.53357089\n",
      "    -0.58606619]\n",
      "   [ 1.37402046 -0.9906739   0.61125284 ..., -0.27326939 -1.17488599\n",
      "     2.04699206]]]\n",
      "\n",
      "\n",
      " [[[ 0.691998    1.66542792  1.90041411 ...,  0.01632856  0.94944108\n",
      "     0.54400098]\n",
      "   [ 0.55654132  0.34193015  1.90983593 ..., -2.40241957  1.13724101\n",
      "    -0.51020294]\n",
      "   [ 1.275617   -0.61147493  0.5784173  ...,  0.30540031 -0.68515617\n",
      "    -0.16897433]]\n",
      "\n",
      "  [[ 1.67300177  0.14262757  1.99984503 ...,  0.86618268 -0.41828525\n",
      "     0.05869471]\n",
      "   [ 0.51096332  0.12719357  1.69988203 ...,  0.51668769  0.64991897\n",
      "    -1.08451009]\n",
      "   [ 0.55539876  1.38403535 -1.79506481 ...,  1.96855366 -1.025226\n",
      "    -1.18982565]]\n",
      "\n",
      "  [[ 0.80001038  0.59042221  0.11457249 ..., -1.56615388 -0.15377562\n",
      "     0.59004867]\n",
      "   [ 1.90172338  0.94057369  1.32979178 ..., -1.19298923 -0.35743701\n",
      "     1.17940235]\n",
      "   [ 0.87283444  0.24623349 -0.74041158 ..., -0.58160782  0.05480858\n",
      "    -0.80614668]]\n",
      "\n",
      "  [[ 0.20323271 -0.16847548  1.29924846 ..., -1.45195007 -1.00940442\n",
      "    -2.01444817]\n",
      "   [-0.93999249 -0.46670723  1.67925954 ..., -0.56019825  1.68743694\n",
      "     1.74294102]\n",
      "   [-0.11171878  0.55169457 -0.24018244 ..., -0.52140152  0.34452918\n",
      "     0.14439166]]\n",
      "\n",
      "  [[ 0.29559264  0.45097676 -0.05334954 ..., -0.00846458 -1.28409636\n",
      "    -0.55197471]\n",
      "   [-0.88301349  0.44049799 -1.42752767 ...,  0.43702671  0.99788058\n",
      "     0.28148261]\n",
      "   [-0.63310784  0.67844647 -1.11687064 ...,  0.83884525  1.23792064\n",
      "     1.65671289]]]\n",
      "\n",
      "\n",
      " [[[-1.29108977  2.54697394  0.324121   ..., -0.07473224 -0.53091156\n",
      "     0.29525417]\n",
      "   [ 1.09553707  1.32726955  0.0038425  ..., -1.22293806 -0.59115964\n",
      "     0.37999675]\n",
      "   [-0.50559944 -0.26138285  0.30353737 ...,  0.6423406  -0.91900772\n",
      "    -1.13103616]]\n",
      "\n",
      "  [[-0.6477288  -0.14758617  0.84926069 ..., -0.68401372 -0.05605011\n",
      "    -0.68313551]\n",
      "   [ 1.48388445  0.6753428  -0.69898617 ..., -1.02639484 -1.02850425\n",
      "    -0.48155436]\n",
      "   [ 0.7407437  -0.93729961  1.51868761 ..., -1.10671115 -0.8604368\n",
      "     0.62449819]]\n",
      "\n",
      "  [[ 0.85050899 -1.49915564 -0.04364398 ...,  0.64080346  0.55618721\n",
      "     0.80014729]\n",
      "   [-0.33499357  0.35499308  1.29888725 ..., -0.63749474 -0.31305262\n",
      "     0.98000288]\n",
      "   [ 2.00447989  0.07091142  0.23403333 ..., -0.11320951 -0.23697491\n",
      "     1.54129148]]\n",
      "\n",
      "  [[ 1.02569246 -0.01475307  0.06728452 ...,  1.023996    0.58231527\n",
      "     1.55576622]\n",
      "   [ 1.39762354  0.27201867 -0.19540006 ...,  1.82386243 -1.79444551\n",
      "    -0.09495358]\n",
      "   [ 0.64547342  0.75494176  1.52415121 ...,  1.401039    0.88182139\n",
      "    -2.07996082]]\n",
      "\n",
      "  [[ 1.84158993 -0.25254723  0.3527455  ..., -0.69013733 -0.9188484\n",
      "    -0.35048047]\n",
      "   [-1.5191617  -2.22570372  0.80952829 ..., -0.17314439  2.58596897\n",
      "    -0.37303969]\n",
      "   [-1.41380501  1.36257112 -0.25865483 ...,  1.44915819  1.1663245\n",
      "    -0.03490173]]]]\n"
     ]
    }
   ],
   "source": [
    "print(conv1_filter_v1)"
   ]
  },
  {
   "cell_type": "code",
   "execution_count": 57,
   "metadata": {
    "collapsed": false
   },
   "outputs": [],
   "source": [
    "learning_rate = 0.05\n",
    "\n",
    "conv_filter_size = 5\n",
    "\n",
    "conv_stride_size = 1\n",
    "conv_layers = 64\n",
    "\n",
    "pool_filter_size = 3\n",
    "pool_stride_size = 2\n",
    "\n",
    "fc1_size = 512\n",
    "\n",
    "tf.reset_default_graph()\n",
    "\n",
    "X = tf.placeholder(tf.float32, [None, 32, 32, 3], name='X_placeholder')\n",
    "Y = tf.placeholder(tf.float32, [None, 2], name='Y_placeholder')\n",
    "\n",
    "\n",
    "bias_conv1_v2 = tf.Variable(tf.fill([conv_layers], 0.01, name = \"bias_conv1_v2\"))\n",
    "conv1_v2 = tf.nn.conv2d(X, \n",
    "                    conv1_filter_v1,\n",
    "                    strides = [1, conv_stride_size, conv_stride_size, 1], \n",
    "                     padding=\"SAME\", \n",
    "                     name = \"conv1_v2\") + bias_conv1_v2\n",
    "\n",
    "conv1_relu_v2 = tf.nn.relu(conv1_v2, name = \"conv1_relu_v2\")\n",
    "pool1_v2 = tf.nn.max_pool(conv1_relu_v2,\n",
    "                      ksize = [1, pool_filter_size, pool_filter_size, 1],\n",
    "                      strides = [1, pool_stride_size, pool_stride_size, 1],\n",
    "                       padding=\"SAME\",\n",
    "                       name = \"pool1_v2\")\n",
    "\n",
    "\n",
    "bias_conv2_v2 = tf.Variable(tf.fill([conv_layers], 0.01, name = \"bias_conv2_v2\"))\n",
    "conv2_v2 = tf.nn.conv2d(pool1_v2, \n",
    "                    conv2_filter_v1,\n",
    "                    strides = [1, conv_stride_size, conv_stride_size, 1],\n",
    "                    padding=\"SAME\",\n",
    "                    name = \"conv2_v2\") + bias_conv2_v2\n",
    "\n",
    "conv2_relu_v2 = tf.nn.relu(conv2_v2, \"conv2_relu_v2\")\n",
    "pool2_v2 = tf.nn.max_pool(conv2_relu_v2,\n",
    "                      ksize = [1, pool_filter_size, pool_filter_size, 1],\n",
    "                      strides = [1, pool_stride_size, pool_stride_size, 1],\n",
    "                      padding=\"SAME\"\n",
    "                      )\n",
    "\n",
    "pool2_v2 = tf.reshape(pool2_v2, (-1, 4096), name = \"pool2_v2\")\n",
    "\n",
    "def fullLayer(input_data, output_size, act, name):\n",
    "    w = tf.Variable(tf.random_normal([input_data.get_shape().as_list()[1], output_size]), name = name + \"weigth\")\n",
    "    b = tf.Variable(tf.random_normal([output_size]), name = name+ \"bias\")\n",
    "    return act(tf.matmul(input_data, w) + b , name = name)\n",
    "\n",
    "fc1_v2 = fullLayer(pool2_v2, fc1_size, tf.nn.relu, \"fc1_v2\")\n",
    "fc2_v2 = fullLayer(fc1_v2, 2, tf.identity, \"fc2_v2\")\n",
    "\n",
    "pred = tf.nn.softmax(fc2_v2, name = \"predications\")\n",
    "\n",
    "##check how many of them are correct arg maxx is used because Y is one hat\n",
    "correct_preds = tf.equal(tf.argmax(pred, 1), tf.argmax(Y, 1))\n",
    "accuracy = tf.reduce_mean(tf.cast(correct_preds, tf.float32))\n",
    "\n",
    "entropy = tf.nn.softmax_cross_entropy_with_logits(logits=fc2_v2, labels=Y, name='loss_v2')\n",
    "\n",
    "loss = tf.reduce_mean(entropy, name = \"loss_v2\") \n",
    "\n",
    "optimizer = tf.train.AdamOptimizer(learning_rate=learning_rate).minimize(loss)\n",
    "\n"
   ]
  },
  {
   "cell_type": "code",
   "execution_count": 58,
   "metadata": {
    "collapsed": false
   },
   "outputs": [
    {
     "name": "stdout",
     "output_type": "stream",
     "text": [
      "step 20, Avereage Loss :150622474.84375, Accuracy : 0.522000\n",
      "step 40, Avereage Loss :3763618.21875, Accuracy : 0.730000\n",
      "step 60, Avereage Loss :1435542.375, Accuracy : 0.844000\n",
      "step 80, Avereage Loss :664508.32578125, Accuracy : 0.877000\n",
      "step 100, Avereage Loss :436200.549609375, Accuracy : 0.894000\n",
      "step 120, Avereage Loss :608957.5984863281, Accuracy : 0.870000\n",
      "step 140, Avereage Loss :403502.2416259766, Accuracy : 0.890000\n",
      "step 160, Avereage Loss :240856.167578125, Accuracy : 0.919000\n",
      "step 180, Avereage Loss :338517.21479492186, Accuracy : 0.908000\n",
      "step 200, Avereage Loss :274904.69851074216, Accuracy : 0.914000\n",
      "step 220, Avereage Loss :657920.544140625, Accuracy : 0.857000\n",
      "step 240, Avereage Loss :585033.0892578125, Accuracy : 0.884000\n",
      "step 260, Avereage Loss :377042.15477294923, Accuracy : 0.895000\n",
      "step 280, Avereage Loss :214172.952734375, Accuracy : 0.918000\n",
      "step 300, Avereage Loss :102835.16357421875, Accuracy : 0.959000\n",
      "step 320, Avereage Loss :185141.91923828126, Accuracy : 0.929000\n",
      "step 340, Avereage Loss :113238.89580078125, Accuracy : 0.948000\n",
      "step 360, Avereage Loss :192264.61672363282, Accuracy : 0.927000\n",
      "step 380, Avereage Loss :213972.36826171874, Accuracy : 0.931000\n",
      "step 400, Avereage Loss :36056.323205566405, Accuracy : 0.968000\n"
     ]
    }
   ],
   "source": [
    "##just some config for not getting whole server\n",
    "gpu_options = tf.GPUOptions(allow_growth=True)\n",
    "config = tf.ConfigProto(gpu_options=gpu_options)\n",
    "sess =  tf.Session(config = config) \n",
    "    \n",
    "num_epochs = 20\n",
    "batch_size = 50\n",
    "\n",
    "##initialize the variables\n",
    "sess.run(tf.global_variables_initializer())\n",
    "\n",
    "n_batches = 1000 // batch_size\n",
    "for i in range(num_epochs):\n",
    "    total_loss = 0\n",
    "    total_acc = 0\n",
    "    \n",
    "    conc = list(zip(train_x, train_y))\n",
    "    random.shuffle(conc)\n",
    "    train_x, train_y = zip(*conc)\n",
    "    \n",
    "    for j in range(n_batches):\n",
    "        X_batch, Y_batch = train_x[j * batch_size:(j+1) * batch_size], train_y[j * batch_size:(j+1) * batch_size]\n",
    "        _, loss_batch, acc_batch, p = sess.run([optimizer, loss, accuracy, fc2_v2], feed_dict={X: X_batch, Y: Y_batch})\n",
    "\n",
    "        total_loss += loss_batch\n",
    "        total_acc += acc_batch\n",
    "        \n",
    "\n",
    "    print('step {}, Avereage Loss :{}, Accuracy : {:.6f}'.format( (i+1) * n_batches, total_loss / n_batches,  total_acc / n_batches ))\n",
    "\n",
    "\n"
   ]
  },
  {
   "cell_type": "code",
   "execution_count": 59,
   "metadata": {
    "collapsed": false
   },
   "outputs": [
    {
     "name": "stdout",
     "output_type": "stream",
     "text": [
      "test Accuracy , 0.9300000071525574\n"
     ]
    },
    {
     "data": {
      "text/plain": [
       "'\\nهمانطور که میبینید با فیلتر شبکه ی قبلی به اکیوریسی 78 درصد رسیدیم\\n'"
      ]
     },
     "execution_count": 59,
     "metadata": {},
     "output_type": "execute_result"
    }
   ],
   "source": [
    "n_batches = 200 // batch_size\n",
    "total_correct_preds = 0\n",
    "for i in range(n_batches):\n",
    "    ## test batches\n",
    "    X_batch, Y_batch = test_x[i * batch_size:(i+1) * batch_size], test_y[i * batch_size:(i+1) * batch_size]\n",
    "    accuracy_batch  = sess.run([accuracy, ], feed_dict={X: X_batch, Y: Y_batch})\n",
    "\n",
    "\n",
    "    total_correct_preds += accuracy_batch[0]\n",
    "print('test Accuracy , {}'.format(total_correct_preds / n_batches ))\n",
    "'''\n",
    "همانطور که میبینید با فیلتر شبکه ی قبلی به اکیوریسی 93 درصد رسیدیم\n",
    "'''"
   ]
  }
 ],
 "metadata": {
  "kernelspec": {
   "display_name": "Python 3",
   "language": "python",
   "name": "python3"
  },
  "language_info": {
   "codemirror_mode": {
    "name": "ipython",
    "version": 3
   },
   "file_extension": ".py",
   "mimetype": "text/x-python",
   "name": "python",
   "nbconvert_exporter": "python",
   "pygments_lexer": "ipython3",
   "version": "3.4.3"
  }
 },
 "nbformat": 4,
 "nbformat_minor": 2
}
